{
  "cells": [
    {
      "attachments": {},
      "cell_type": "markdown",
      "metadata": {
        "id": "HQyZhOhtlsUv"
      },
      "source": [
        "UE20CS332 - Algorithms for Information Retrieval and Intelligent Web\n",
        "\n",
        "Assignment -1\n",
        "\n",
        "\n",
        "Corpus Used: Top 1000 IMDB Movies\n"
      ]
    },
    {
      "cell_type": "code",
      "execution_count": 1,
      "metadata": {
        "id": "6MJShG6iX6Q6"
      },
      "outputs": [],
      "source": [
        "import nltk\n",
        "import numpy as np\n",
        "import pandas as pd"
      ]
    },
    {
      "cell_type": "markdown",
      "metadata": {
        "id": "npzspWkfZ4ht"
      },
      "source": [
        "downloading packages:"
      ]
    },
    {
      "cell_type": "code",
      "execution_count": 2,
      "metadata": {
        "colab": {
          "base_uri": "https://localhost:8080/"
        },
        "id": "jDNocDlRYdUV",
        "outputId": "eba9fc30-2e7b-43b0-e3f7-56d6b0b77f24"
      },
      "outputs": [
        {
          "name": "stderr",
          "output_type": "stream",
          "text": [
            "[nltk_data] Downloading package punkt to /root/nltk_data...\n",
            "[nltk_data]   Unzipping tokenizers/punkt.zip.\n",
            "[nltk_data] Downloading package stopwords to /root/nltk_data...\n",
            "[nltk_data]   Unzipping corpora/stopwords.zip.\n",
            "[nltk_data] Downloading package wordnet to /root/nltk_data...\n",
            "[nltk_data] Downloading package omw-1.4 to /root/nltk_data...\n"
          ]
        }
      ],
      "source": [
        "nltk.download(\"punkt\")\n",
        "nltk.download(\"stopwords\")\n",
        "nltk.download(\"wordnet\")\n",
        "nltk.download('omw-1.4')\n",
        "from nltk.tokenize import word_tokenize"
      ]
    },
    {
      "cell_type": "markdown",
      "metadata": {
        "id": "MgTjg8bWZ_Q4"
      },
      "source": [
        "importing file."
      ]
    },
    {
      "cell_type": "code",
      "execution_count": 3,
      "metadata": {
        "colab": {
          "base_uri": "https://localhost:8080/",
          "height": 73
        },
        "id": "K9DjYlOJZD-F",
        "outputId": "fb860059-c337-44bf-8227-4b0de22e6dc8"
      },
      "outputs": [
        {
          "data": {
            "text/html": [
              "\n",
              "     <input type=\"file\" id=\"files-0ff42a56-f89d-4912-97d3-c1c8d25570b6\" name=\"files[]\" multiple disabled\n",
              "        style=\"border:none\" />\n",
              "     <output id=\"result-0ff42a56-f89d-4912-97d3-c1c8d25570b6\">\n",
              "      Upload widget is only available when the cell has been executed in the\n",
              "      current browser session. Please rerun this cell to enable.\n",
              "      </output>\n",
              "      <script>// Copyright 2017 Google LLC\n",
              "//\n",
              "// Licensed under the Apache License, Version 2.0 (the \"License\");\n",
              "// you may not use this file except in compliance with the License.\n",
              "// You may obtain a copy of the License at\n",
              "//\n",
              "//      http://www.apache.org/licenses/LICENSE-2.0\n",
              "//\n",
              "// Unless required by applicable law or agreed to in writing, software\n",
              "// distributed under the License is distributed on an \"AS IS\" BASIS,\n",
              "// WITHOUT WARRANTIES OR CONDITIONS OF ANY KIND, either express or implied.\n",
              "// See the License for the specific language governing permissions and\n",
              "// limitations under the License.\n",
              "\n",
              "/**\n",
              " * @fileoverview Helpers for google.colab Python module.\n",
              " */\n",
              "(function(scope) {\n",
              "function span(text, styleAttributes = {}) {\n",
              "  const element = document.createElement('span');\n",
              "  element.textContent = text;\n",
              "  for (const key of Object.keys(styleAttributes)) {\n",
              "    element.style[key] = styleAttributes[key];\n",
              "  }\n",
              "  return element;\n",
              "}\n",
              "\n",
              "// Max number of bytes which will be uploaded at a time.\n",
              "const MAX_PAYLOAD_SIZE = 100 * 1024;\n",
              "\n",
              "function _uploadFiles(inputId, outputId) {\n",
              "  const steps = uploadFilesStep(inputId, outputId);\n",
              "  const outputElement = document.getElementById(outputId);\n",
              "  // Cache steps on the outputElement to make it available for the next call\n",
              "  // to uploadFilesContinue from Python.\n",
              "  outputElement.steps = steps;\n",
              "\n",
              "  return _uploadFilesContinue(outputId);\n",
              "}\n",
              "\n",
              "// This is roughly an async generator (not supported in the browser yet),\n",
              "// where there are multiple asynchronous steps and the Python side is going\n",
              "// to poll for completion of each step.\n",
              "// This uses a Promise to block the python side on completion of each step,\n",
              "// then passes the result of the previous step as the input to the next step.\n",
              "function _uploadFilesContinue(outputId) {\n",
              "  const outputElement = document.getElementById(outputId);\n",
              "  const steps = outputElement.steps;\n",
              "\n",
              "  const next = steps.next(outputElement.lastPromiseValue);\n",
              "  return Promise.resolve(next.value.promise).then((value) => {\n",
              "    // Cache the last promise value to make it available to the next\n",
              "    // step of the generator.\n",
              "    outputElement.lastPromiseValue = value;\n",
              "    return next.value.response;\n",
              "  });\n",
              "}\n",
              "\n",
              "/**\n",
              " * Generator function which is called between each async step of the upload\n",
              " * process.\n",
              " * @param {string} inputId Element ID of the input file picker element.\n",
              " * @param {string} outputId Element ID of the output display.\n",
              " * @return {!Iterable<!Object>} Iterable of next steps.\n",
              " */\n",
              "function* uploadFilesStep(inputId, outputId) {\n",
              "  const inputElement = document.getElementById(inputId);\n",
              "  inputElement.disabled = false;\n",
              "\n",
              "  const outputElement = document.getElementById(outputId);\n",
              "  outputElement.innerHTML = '';\n",
              "\n",
              "  const pickedPromise = new Promise((resolve) => {\n",
              "    inputElement.addEventListener('change', (e) => {\n",
              "      resolve(e.target.files);\n",
              "    });\n",
              "  });\n",
              "\n",
              "  const cancel = document.createElement('button');\n",
              "  inputElement.parentElement.appendChild(cancel);\n",
              "  cancel.textContent = 'Cancel upload';\n",
              "  const cancelPromise = new Promise((resolve) => {\n",
              "    cancel.onclick = () => {\n",
              "      resolve(null);\n",
              "    };\n",
              "  });\n",
              "\n",
              "  // Wait for the user to pick the files.\n",
              "  const files = yield {\n",
              "    promise: Promise.race([pickedPromise, cancelPromise]),\n",
              "    response: {\n",
              "      action: 'starting',\n",
              "    }\n",
              "  };\n",
              "\n",
              "  cancel.remove();\n",
              "\n",
              "  // Disable the input element since further picks are not allowed.\n",
              "  inputElement.disabled = true;\n",
              "\n",
              "  if (!files) {\n",
              "    return {\n",
              "      response: {\n",
              "        action: 'complete',\n",
              "      }\n",
              "    };\n",
              "  }\n",
              "\n",
              "  for (const file of files) {\n",
              "    const li = document.createElement('li');\n",
              "    li.append(span(file.name, {fontWeight: 'bold'}));\n",
              "    li.append(span(\n",
              "        `(${file.type || 'n/a'}) - ${file.size} bytes, ` +\n",
              "        `last modified: ${\n",
              "            file.lastModifiedDate ? file.lastModifiedDate.toLocaleDateString() :\n",
              "                                    'n/a'} - `));\n",
              "    const percent = span('0% done');\n",
              "    li.appendChild(percent);\n",
              "\n",
              "    outputElement.appendChild(li);\n",
              "\n",
              "    const fileDataPromise = new Promise((resolve) => {\n",
              "      const reader = new FileReader();\n",
              "      reader.onload = (e) => {\n",
              "        resolve(e.target.result);\n",
              "      };\n",
              "      reader.readAsArrayBuffer(file);\n",
              "    });\n",
              "    // Wait for the data to be ready.\n",
              "    let fileData = yield {\n",
              "      promise: fileDataPromise,\n",
              "      response: {\n",
              "        action: 'continue',\n",
              "      }\n",
              "    };\n",
              "\n",
              "    // Use a chunked sending to avoid message size limits. See b/62115660.\n",
              "    let position = 0;\n",
              "    do {\n",
              "      const length = Math.min(fileData.byteLength - position, MAX_PAYLOAD_SIZE);\n",
              "      const chunk = new Uint8Array(fileData, position, length);\n",
              "      position += length;\n",
              "\n",
              "      const base64 = btoa(String.fromCharCode.apply(null, chunk));\n",
              "      yield {\n",
              "        response: {\n",
              "          action: 'append',\n",
              "          file: file.name,\n",
              "          data: base64,\n",
              "        },\n",
              "      };\n",
              "\n",
              "      let percentDone = fileData.byteLength === 0 ?\n",
              "          100 :\n",
              "          Math.round((position / fileData.byteLength) * 100);\n",
              "      percent.textContent = `${percentDone}% done`;\n",
              "\n",
              "    } while (position < fileData.byteLength);\n",
              "  }\n",
              "\n",
              "  // All done.\n",
              "  yield {\n",
              "    response: {\n",
              "      action: 'complete',\n",
              "    }\n",
              "  };\n",
              "}\n",
              "\n",
              "scope.google = scope.google || {};\n",
              "scope.google.colab = scope.google.colab || {};\n",
              "scope.google.colab._files = {\n",
              "  _uploadFiles,\n",
              "  _uploadFilesContinue,\n",
              "};\n",
              "})(self);\n",
              "</script> "
            ],
            "text/plain": [
              "<IPython.core.display.HTML object>"
            ]
          },
          "metadata": {},
          "output_type": "display_data"
        },
        {
          "name": "stdout",
          "output_type": "stream",
          "text": [
            "Saving Top 1000 IMDB movies (1).csv to Top 1000 IMDB movies (1).csv\n"
          ]
        }
      ],
      "source": [
        "from google.colab import files\n",
        " \n",
        " \n",
        "uploaded = files.upload()"
      ]
    },
    {
      "cell_type": "code",
      "execution_count": 4,
      "metadata": {
        "id": "OluLVx0FZO2c"
      },
      "outputs": [],
      "source": [
        "stopwords = nltk.corpus.stopwords.words('english')\n",
        "stemmer = nltk.stem.SnowballStemmer('english')\n",
        "lemmatizer = nltk.stem.WordNetLemmatizer()"
      ]
    },
    {
      "cell_type": "markdown",
      "metadata": {
        "id": "Xx1xEYSxaHFb"
      },
      "source": [
        "Reading CSV file:"
      ]
    },
    {
      "cell_type": "code",
      "execution_count": 5,
      "metadata": {
        "colab": {
          "base_uri": "https://localhost:8080/",
          "height": 354
        },
        "id": "s-whrNT5ZYgw",
        "outputId": "37b06e5f-437f-4289-97f2-d1555c98d8fa"
      },
      "outputs": [
        {
          "data": {
            "text/html": [
              "\n",
              "  <div id=\"df-22eb47a4-2bd8-4417-aade-56a55156c829\">\n",
              "    <div class=\"colab-df-container\">\n",
              "      <div>\n",
              "<style scoped>\n",
              "    .dataframe tbody tr th:only-of-type {\n",
              "        vertical-align: middle;\n",
              "    }\n",
              "\n",
              "    .dataframe tbody tr th {\n",
              "        vertical-align: top;\n",
              "    }\n",
              "\n",
              "    .dataframe thead th {\n",
              "        text-align: right;\n",
              "    }\n",
              "</style>\n",
              "<table border=\"1\" class=\"dataframe\">\n",
              "  <thead>\n",
              "    <tr style=\"text-align: right;\">\n",
              "      <th></th>\n",
              "      <th>Unnamed: 0</th>\n",
              "      <th>Movie Name</th>\n",
              "      <th>Year of Release</th>\n",
              "      <th>Watch Time</th>\n",
              "      <th>Movie Rating</th>\n",
              "      <th>Meatscore of movie</th>\n",
              "      <th>Votes</th>\n",
              "      <th>Gross</th>\n",
              "      <th>Description</th>\n",
              "    </tr>\n",
              "  </thead>\n",
              "  <tbody>\n",
              "    <tr>\n",
              "      <th>0</th>\n",
              "      <td>0</td>\n",
              "      <td>The Shawshank Redemption</td>\n",
              "      <td>(1994)</td>\n",
              "      <td>142 min</td>\n",
              "      <td>9.3</td>\n",
              "      <td>81</td>\n",
              "      <td>34,709</td>\n",
              "      <td>$28.34M</td>\n",
              "      <td>Two imprisoned men bond over a number of years...</td>\n",
              "    </tr>\n",
              "    <tr>\n",
              "      <th>1</th>\n",
              "      <td>1</td>\n",
              "      <td>The Godfather</td>\n",
              "      <td>(1972)</td>\n",
              "      <td>175 min</td>\n",
              "      <td>9.2</td>\n",
              "      <td>100</td>\n",
              "      <td>34,709</td>\n",
              "      <td>$134.97M</td>\n",
              "      <td>The aging patriarch of an organized crime dyna...</td>\n",
              "    </tr>\n",
              "    <tr>\n",
              "      <th>2</th>\n",
              "      <td>2</td>\n",
              "      <td>The Dark Knight</td>\n",
              "      <td>(2008)</td>\n",
              "      <td>152 min</td>\n",
              "      <td>9.0</td>\n",
              "      <td>84</td>\n",
              "      <td>34,709</td>\n",
              "      <td>$534.86M</td>\n",
              "      <td>When the menace known as the Joker wreaks havo...</td>\n",
              "    </tr>\n",
              "    <tr>\n",
              "      <th>3</th>\n",
              "      <td>3</td>\n",
              "      <td>The Lord of the Rings: The Return of the King</td>\n",
              "      <td>(2003)</td>\n",
              "      <td>201 min</td>\n",
              "      <td>9.0</td>\n",
              "      <td>94</td>\n",
              "      <td>34,709</td>\n",
              "      <td>$377.85M</td>\n",
              "      <td>Gandalf and Aragorn lead the World of Men agai...</td>\n",
              "    </tr>\n",
              "    <tr>\n",
              "      <th>4</th>\n",
              "      <td>4</td>\n",
              "      <td>Schindler's List</td>\n",
              "      <td>(1993)</td>\n",
              "      <td>195 min</td>\n",
              "      <td>9.0</td>\n",
              "      <td>94</td>\n",
              "      <td>34,709</td>\n",
              "      <td>$96.90M</td>\n",
              "      <td>In German-occupied Poland during World War II,...</td>\n",
              "    </tr>\n",
              "  </tbody>\n",
              "</table>\n",
              "</div>\n",
              "      <button class=\"colab-df-convert\" onclick=\"convertToInteractive('df-22eb47a4-2bd8-4417-aade-56a55156c829')\"\n",
              "              title=\"Convert this dataframe to an interactive table.\"\n",
              "              style=\"display:none;\">\n",
              "        \n",
              "  <svg xmlns=\"http://www.w3.org/2000/svg\" height=\"24px\"viewBox=\"0 0 24 24\"\n",
              "       width=\"24px\">\n",
              "    <path d=\"M0 0h24v24H0V0z\" fill=\"none\"/>\n",
              "    <path d=\"M18.56 5.44l.94 2.06.94-2.06 2.06-.94-2.06-.94-.94-2.06-.94 2.06-2.06.94zm-11 1L8.5 8.5l.94-2.06 2.06-.94-2.06-.94L8.5 2.5l-.94 2.06-2.06.94zm10 10l.94 2.06.94-2.06 2.06-.94-2.06-.94-.94-2.06-.94 2.06-2.06.94z\"/><path d=\"M17.41 7.96l-1.37-1.37c-.4-.4-.92-.59-1.43-.59-.52 0-1.04.2-1.43.59L10.3 9.45l-7.72 7.72c-.78.78-.78 2.05 0 2.83L4 21.41c.39.39.9.59 1.41.59.51 0 1.02-.2 1.41-.59l7.78-7.78 2.81-2.81c.8-.78.8-2.07 0-2.86zM5.41 20L4 18.59l7.72-7.72 1.47 1.35L5.41 20z\"/>\n",
              "  </svg>\n",
              "      </button>\n",
              "      \n",
              "  <style>\n",
              "    .colab-df-container {\n",
              "      display:flex;\n",
              "      flex-wrap:wrap;\n",
              "      gap: 12px;\n",
              "    }\n",
              "\n",
              "    .colab-df-convert {\n",
              "      background-color: #E8F0FE;\n",
              "      border: none;\n",
              "      border-radius: 50%;\n",
              "      cursor: pointer;\n",
              "      display: none;\n",
              "      fill: #1967D2;\n",
              "      height: 32px;\n",
              "      padding: 0 0 0 0;\n",
              "      width: 32px;\n",
              "    }\n",
              "\n",
              "    .colab-df-convert:hover {\n",
              "      background-color: #E2EBFA;\n",
              "      box-shadow: 0px 1px 2px rgba(60, 64, 67, 0.3), 0px 1px 3px 1px rgba(60, 64, 67, 0.15);\n",
              "      fill: #174EA6;\n",
              "    }\n",
              "\n",
              "    [theme=dark] .colab-df-convert {\n",
              "      background-color: #3B4455;\n",
              "      fill: #D2E3FC;\n",
              "    }\n",
              "\n",
              "    [theme=dark] .colab-df-convert:hover {\n",
              "      background-color: #434B5C;\n",
              "      box-shadow: 0px 1px 3px 1px rgba(0, 0, 0, 0.15);\n",
              "      filter: drop-shadow(0px 1px 2px rgba(0, 0, 0, 0.3));\n",
              "      fill: #FFFFFF;\n",
              "    }\n",
              "  </style>\n",
              "\n",
              "      <script>\n",
              "        const buttonEl =\n",
              "          document.querySelector('#df-22eb47a4-2bd8-4417-aade-56a55156c829 button.colab-df-convert');\n",
              "        buttonEl.style.display =\n",
              "          google.colab.kernel.accessAllowed ? 'block' : 'none';\n",
              "\n",
              "        async function convertToInteractive(key) {\n",
              "          const element = document.querySelector('#df-22eb47a4-2bd8-4417-aade-56a55156c829');\n",
              "          const dataTable =\n",
              "            await google.colab.kernel.invokeFunction('convertToInteractive',\n",
              "                                                     [key], {});\n",
              "          if (!dataTable) return;\n",
              "\n",
              "          const docLinkHtml = 'Like what you see? Visit the ' +\n",
              "            '<a target=\"_blank\" href=https://colab.research.google.com/notebooks/data_table.ipynb>data table notebook</a>'\n",
              "            + ' to learn more about interactive tables.';\n",
              "          element.innerHTML = '';\n",
              "          dataTable['output_type'] = 'display_data';\n",
              "          await google.colab.output.renderOutput(dataTable, element);\n",
              "          const docLink = document.createElement('div');\n",
              "          docLink.innerHTML = docLinkHtml;\n",
              "          element.appendChild(docLink);\n",
              "        }\n",
              "      </script>\n",
              "    </div>\n",
              "  </div>\n",
              "  "
            ],
            "text/plain": [
              "   Unnamed: 0                                     Movie Name Year of Release  \\\n",
              "0           0                       The Shawshank Redemption          (1994)   \n",
              "1           1                                  The Godfather          (1972)   \n",
              "2           2                                The Dark Knight          (2008)   \n",
              "3           3  The Lord of the Rings: The Return of the King          (2003)   \n",
              "4           4                               Schindler's List          (1993)   \n",
              "\n",
              "  Watch Time  Movie Rating Meatscore of movie   Votes     Gross  \\\n",
              "0    142 min           9.3         81          34,709   $28.34M   \n",
              "1    175 min           9.2        100          34,709  $134.97M   \n",
              "2    152 min           9.0         84          34,709  $534.86M   \n",
              "3    201 min           9.0         94          34,709  $377.85M   \n",
              "4    195 min           9.0         94          34,709   $96.90M   \n",
              "\n",
              "                                         Description  \n",
              "0  Two imprisoned men bond over a number of years...  \n",
              "1  The aging patriarch of an organized crime dyna...  \n",
              "2  When the menace known as the Joker wreaks havo...  \n",
              "3  Gandalf and Aragorn lead the World of Men agai...  \n",
              "4  In German-occupied Poland during World War II,...  "
            ]
          },
          "execution_count": 5,
          "metadata": {},
          "output_type": "execute_result"
        }
      ],
      "source": [
        "df= pd.read_csv(\"Top 1000 IMDB movies (1).csv\")\n",
        "df.head()"
      ]
    },
    {
      "cell_type": "code",
      "execution_count": 6,
      "metadata": {
        "colab": {
          "base_uri": "https://localhost:8080/"
        },
        "id": "G6YX3uDBaO33",
        "outputId": "327496b3-ae8f-43d9-aa92-00f9cf0018ed"
      },
      "outputs": [
        {
          "name": "stdout",
          "output_type": "stream",
          "text": [
            "(1000, 9)\n"
          ]
        }
      ],
      "source": [
        "print(df.shape)"
      ]
    },
    {
      "cell_type": "code",
      "execution_count": 7,
      "metadata": {
        "id": "AsDyrf02aVsh"
      },
      "outputs": [],
      "source": [
        "corpus = df[\"Description\"].values"
      ]
    },
    {
      "cell_type": "markdown",
      "metadata": {
        "id": "S4UWB5saacjX"
      },
      "source": [
        "Tokenization:"
      ]
    },
    {
      "cell_type": "code",
      "execution_count": 8,
      "metadata": {
        "id": "DKFIh9AMabZH"
      },
      "outputs": [],
      "source": [
        "def tokenize_corpus(tweets):\n",
        "    return list(map(word_tokenize, tweets))"
      ]
    },
    {
      "cell_type": "code",
      "execution_count": 9,
      "metadata": {
        "id": "rodVZtUHawTn"
      },
      "outputs": [],
      "source": [
        "tokenized_corpus = tokenize_corpus(corpus)"
      ]
    },
    {
      "cell_type": "markdown",
      "metadata": {
        "id": "rpFE71XBa7Jw"
      },
      "source": [
        "printing all the tokens formed:"
      ]
    },
    {
      "cell_type": "code",
      "execution_count": 10,
      "metadata": {
        "colab": {
          "base_uri": "https://localhost:8080/"
        },
        "id": "V6rA-FoNa0d_",
        "outputId": "1a287bb1-f561-4329-bab6-ac4242714821"
      },
      "outputs": [
        {
          "name": "stdout",
          "output_type": "stream",
          "text": [
            "Doc 0: ['Two', 'imprisoned', 'men', 'bond', 'over', 'a', 'number', 'of', 'years', ',', 'finding', 'solace', 'and', 'eventual', 'redemption', 'through', 'acts', 'of', 'common', 'decency', '.']\n",
            "Doc 1: ['The', 'aging', 'patriarch', 'of', 'an', 'organized', 'crime', 'dynasty', 'in', 'postwar', 'New', 'York', 'City', 'transfers', 'control', 'of', 'his', 'clandestine', 'empire', 'to', 'his', 'reluctant', 'youngest', 'son', '.']\n",
            "Doc 2: ['When', 'the', 'menace', 'known', 'as', 'the', 'Joker', 'wreaks', 'havoc', 'and', 'chaos', 'on', 'the', 'people', 'of', 'Gotham', ',', 'Batman', 'must', 'accept', 'one', 'of', 'the', 'greatest', 'psychological', 'and', 'physical', 'tests', 'of', 'his', 'ability', 'to', 'fight', 'injustice', '.']\n",
            "Doc 3: ['Gandalf', 'and', 'Aragorn', 'lead', 'the', 'World', 'of', 'Men', 'against', 'Sauron', \"'s\", 'army', 'to', 'draw', 'his', 'gaze', 'from', 'Frodo', 'and', 'Sam', 'as', 'they', 'approach', 'Mount', 'Doom', 'with', 'the', 'One', 'Ring', '.']\n",
            "Doc 4: ['In', 'German-occupied', 'Poland', 'during', 'World', 'War', 'II', ',', 'industrialist', 'Oskar', 'Schindler', 'gradually', 'becomes', 'concerned', 'for', 'his', 'Jewish', 'workforce', 'after', 'witnessing', 'their', 'persecution', 'by', 'the', 'Nazis', '.']\n",
            "Doc 5: ['The', 'early', 'life', 'and', 'career', 'of', 'Vito', 'Corleone', 'in', '1920s', 'New', 'York', 'City', 'is', 'portrayed', ',', 'while', 'his', 'son', ',', 'Michael', ',', 'expands', 'and', 'tightens', 'his', 'grip', 'on', 'the', 'family', 'crime', 'syndicate', '.']\n",
            "Doc 6: ['The', 'jury', 'in', 'a', 'New', 'York', 'City', 'murder', 'trial', 'is', 'frustrated', 'by', 'a', 'single', 'member', 'whose', 'skeptical', 'caution', 'forces', 'them', 'to', 'more', 'carefully', 'consider', 'the', 'evidence', 'before', 'jumping', 'to', 'a', 'hasty', 'verdict', '.']\n",
            "Doc 7: ['When', 'a', 'tribal', 'man', 'is', 'arrested', 'for', 'a', 'case', 'of', 'alleged', 'theft', ',', 'his', 'wife', 'turns', 'to', 'a', 'human-rights', 'lawyer', 'to', 'help', 'bring', 'justice', '.']\n",
            "Doc 8: ['The', 'lives', 'of', 'two', 'mob', 'hitmen', ',', 'a', 'boxer', ',', 'a', 'gangster', 'and', 'his', 'wife', ',', 'and', 'a', 'pair', 'of', 'diner', 'bandits', 'intertwine', 'in', 'four', 'tales', 'of', 'violence', 'and', 'redemption', '.']\n",
            "Doc 9: ['A', 'thief', 'who', 'steals', 'corporate', 'secrets', 'through', 'the', 'use', 'of', 'dream-sharing', 'technology', 'is', 'given', 'the', 'inverse', 'task', 'of', 'planting', 'an', 'idea', 'into', 'the', 'mind', 'of', 'a', 'C.E.O.', ',', 'but', 'his', 'tragic', 'past', 'may', 'doom', 'the', 'project', 'and', 'his', 'team', 'to', 'disaster', '.']\n",
            "Doc 10: ['While', 'Frodo', 'and', 'Sam', 'edge', 'closer', 'to', 'Mordor', 'with', 'the', 'help', 'of', 'the', 'shifty', 'Gollum', ',', 'the', 'divided', 'fellowship', 'makes', 'a', 'stand', 'against', 'Sauron', \"'s\", 'new', 'ally', ',', 'Saruman', ',', 'and', 'his', 'hordes', 'of', 'Isengard', '.']\n",
            "Doc 11: ['An', 'insomniac', 'office', 'worker', 'and', 'a', 'devil-may-care', 'soap', 'maker', 'form', 'an', 'underground', 'fight', 'club', 'that', 'evolves', 'into', 'much', 'more', '.']\n",
            "Doc 12: ['A', 'meek', 'Hobbit', 'from', 'the', 'Shire', 'and', 'eight', 'companions', 'set', 'out', 'on', 'a', 'journey', 'to', 'destroy', 'the', 'powerful', 'One', 'Ring', 'and', 'save', 'Middle-earth', 'from', 'the', 'Dark', 'Lord', 'Sauron', '.']\n",
            "Doc 13: ['The', 'presidencies', 'of', 'Kennedy', 'and', 'Johnson', ',', 'the', 'Vietnam', 'War', ',', 'the', 'Watergate', 'scandal', 'and', 'other', 'historical', 'events', 'unfold', 'from', 'the', 'perspective', 'of', 'an', 'Alabama', 'man', 'with', 'an', 'IQ', 'of', '75', ',', 'whose', 'only', 'desire', 'is', 'to', 'be', 'reunited', 'with', 'his', 'childhood', 'sweetheart', '.']\n",
            "Doc 14: ['A', 'bounty', 'hunting', 'scam', 'joins', 'two', 'men', 'in', 'an', 'uneasy', 'alliance', 'against', 'a', 'third', 'in', 'a', 'race', 'to', 'find', 'a', 'fortune', 'in', 'gold', 'buried', 'in', 'a', 'remote', 'cemetery', '.']\n",
            "Doc 15: ['Nedumaaran', 'Rajangam', '``', 'Maara', \"''\", 'sets', 'out', 'to', 'make', 'the', 'common', 'man', 'fly', 'and', 'in', 'the', 'process', 'takes', 'on', 'the', 'world', \"'s\", 'most', 'capital', 'intensive', 'industry', 'and', 'several', 'enemies', 'who', 'stand', 'in', 'his', 'way', '.']\n",
            "Doc 16: ['When', 'a', 'beautiful', 'stranger', 'leads', 'computer', 'hacker', 'Neo', 'to', 'a', 'forbidding', 'underworld', ',', 'he', 'discovers', 'the', 'shocking', 'truth', '--', 'the', 'life', 'he', 'knows', 'is', 'the', 'elaborate', 'deception', 'of', 'an', 'evil', 'cyber-intelligence', '.']\n",
            "Doc 17: ['The', 'story', 'of', 'Henry', 'Hill', 'and', 'his', 'life', 'in', 'the', 'mob', ',', 'covering', 'his', 'relationship', 'with', 'his', 'wife', 'Karen', 'Hill', 'and', 'his', 'mob', 'partners', 'Jimmy', 'Conway', 'and', 'Tommy', 'DeVito', 'in', 'the', 'Italian-American', 'crime', 'syndicate', '.']\n",
            "Doc 18: ['After', 'the', 'Rebels', 'are', 'brutally', 'overpowered', 'by', 'the', 'Empire', 'on', 'the', 'ice', 'planet', 'Hoth', ',', 'Luke', 'Skywalker', 'begins', 'Jedi', 'training', 'with', 'Yoda', ',', 'while', 'his', 'friends', 'are', 'pursued', 'across', 'the', 'galaxy', 'by', 'Darth', 'Vader', 'and', 'bounty', 'hunter', 'Boba', 'Fett', '.']\n",
            "Doc 19: ['A', 'criminal', 'pleads', 'insanity', 'and', 'is', 'admitted', 'to', 'a', 'mental', 'institution', ',', 'where', 'he', 'rebels', 'against', 'the', 'oppressive', 'nurse', 'and', 'rallies', 'up', 'the', 'scared', 'patients', '.']\n",
            "Doc 20: ['A', 'high-octane', 'action', 'film', 'where', 'a', 'special', 'investigator', 'is', 'assigned', 'a', 'case', 'of', 'serial', 'Killings', ',', 'he', 'finds', 'the', 'case', 'is', 'not', 'what', 'it', 'seems', 'to', 'be', 'and', 'leading', 'down', 'this', 'path', 'is', 'only', 'going', 'to', 'end', 'in', 'a', 'war', 'between', 'everyone', 'involved', '.']\n"
          ]
        }
      ],
      "source": [
        "for i in range(21):\n",
        "    print(f\"Doc {i}: {tokenized_corpus[i]}\")"
      ]
    },
    {
      "cell_type": "markdown",
      "metadata": {
        "id": "C_Kew6o3bFr1"
      },
      "source": [
        "Stop word removal:"
      ]
    },
    {
      "cell_type": "code",
      "execution_count": 11,
      "metadata": {
        "id": "EAuAsEPTa5ik"
      },
      "outputs": [],
      "source": [
        "check=[',',':',';','.','#','(',')','{','[',']',\"}\",'/','?']"
      ]
    },
    {
      "cell_type": "markdown",
      "metadata": {
        "id": "KuMgcZJtbT2R"
      },
      "source": [
        "Function to remove all the stopwords."
      ]
    },
    {
      "cell_type": "code",
      "execution_count": 12,
      "metadata": {
        "id": "mXOjnXeabO19"
      },
      "outputs": [],
      "source": [
        "def remove_stopwords(tokenized_tweets):\n",
        "    _function = lambda tweet: [word for word in tweet if word not in stopwords and word not in check]\n",
        "    return list(map(_function, tokenized_tweets))"
      ]
    },
    {
      "cell_type": "markdown",
      "metadata": {
        "id": "32rCHLxwbkbN"
      },
      "source": [
        "function call to remove all the stopwords fromm the corpus"
      ]
    },
    {
      "cell_type": "code",
      "execution_count": 13,
      "metadata": {
        "id": "RtzoPV43bTK-"
      },
      "outputs": [],
      "source": [
        "tokenized_nostopw_corpus = remove_stopwords(tokenized_corpus)"
      ]
    },
    {
      "cell_type": "markdown",
      "metadata": {
        "id": "hwYDozCwbwha"
      },
      "source": [
        "printing the corpus without stopwords:"
      ]
    },
    {
      "cell_type": "code",
      "execution_count": 14,
      "metadata": {
        "colab": {
          "base_uri": "https://localhost:8080/"
        },
        "id": "lwpOvK-Objqg",
        "outputId": "a39db8fc-4761-4501-94af-38b93daeb4b7"
      },
      "outputs": [
        {
          "name": "stdout",
          "output_type": "stream",
          "text": [
            "Tweet 0: ['Two', 'imprisoned', 'men', 'bond', 'number', 'years', 'finding', 'solace', 'eventual', 'redemption', 'acts', 'common', 'decency']\n",
            "Tweet 1: ['The', 'aging', 'patriarch', 'organized', 'crime', 'dynasty', 'postwar', 'New', 'York', 'City', 'transfers', 'control', 'clandestine', 'empire', 'reluctant', 'youngest', 'son']\n",
            "Tweet 2: ['When', 'menace', 'known', 'Joker', 'wreaks', 'havoc', 'chaos', 'people', 'Gotham', 'Batman', 'must', 'accept', 'one', 'greatest', 'psychological', 'physical', 'tests', 'ability', 'fight', 'injustice']\n",
            "Tweet 3: ['Gandalf', 'Aragorn', 'lead', 'World', 'Men', 'Sauron', \"'s\", 'army', 'draw', 'gaze', 'Frodo', 'Sam', 'approach', 'Mount', 'Doom', 'One', 'Ring']\n",
            "Tweet 4: ['In', 'German-occupied', 'Poland', 'World', 'War', 'II', 'industrialist', 'Oskar', 'Schindler', 'gradually', 'becomes', 'concerned', 'Jewish', 'workforce', 'witnessing', 'persecution', 'Nazis']\n",
            "Tweet 5: ['The', 'early', 'life', 'career', 'Vito', 'Corleone', '1920s', 'New', 'York', 'City', 'portrayed', 'son', 'Michael', 'expands', 'tightens', 'grip', 'family', 'crime', 'syndicate']\n",
            "Tweet 6: ['The', 'jury', 'New', 'York', 'City', 'murder', 'trial', 'frustrated', 'single', 'member', 'whose', 'skeptical', 'caution', 'forces', 'carefully', 'consider', 'evidence', 'jumping', 'hasty', 'verdict']\n",
            "Tweet 7: ['When', 'tribal', 'man', 'arrested', 'case', 'alleged', 'theft', 'wife', 'turns', 'human-rights', 'lawyer', 'help', 'bring', 'justice']\n",
            "Tweet 8: ['The', 'lives', 'two', 'mob', 'hitmen', 'boxer', 'gangster', 'wife', 'pair', 'diner', 'bandits', 'intertwine', 'four', 'tales', 'violence', 'redemption']\n",
            "Tweet 9: ['A', 'thief', 'steals', 'corporate', 'secrets', 'use', 'dream-sharing', 'technology', 'given', 'inverse', 'task', 'planting', 'idea', 'mind', 'C.E.O.', 'tragic', 'past', 'may', 'doom', 'project', 'team', 'disaster']\n",
            "Tweet 10: ['While', 'Frodo', 'Sam', 'edge', 'closer', 'Mordor', 'help', 'shifty', 'Gollum', 'divided', 'fellowship', 'makes', 'stand', 'Sauron', \"'s\", 'new', 'ally', 'Saruman', 'hordes', 'Isengard']\n",
            "Tweet 11: ['An', 'insomniac', 'office', 'worker', 'devil-may-care', 'soap', 'maker', 'form', 'underground', 'fight', 'club', 'evolves', 'much']\n",
            "Tweet 12: ['A', 'meek', 'Hobbit', 'Shire', 'eight', 'companions', 'set', 'journey', 'destroy', 'powerful', 'One', 'Ring', 'save', 'Middle-earth', 'Dark', 'Lord', 'Sauron']\n",
            "Tweet 13: ['The', 'presidencies', 'Kennedy', 'Johnson', 'Vietnam', 'War', 'Watergate', 'scandal', 'historical', 'events', 'unfold', 'perspective', 'Alabama', 'man', 'IQ', '75', 'whose', 'desire', 'reunited', 'childhood', 'sweetheart']\n",
            "Tweet 14: ['A', 'bounty', 'hunting', 'scam', 'joins', 'two', 'men', 'uneasy', 'alliance', 'third', 'race', 'find', 'fortune', 'gold', 'buried', 'remote', 'cemetery']\n",
            "Tweet 15: ['Nedumaaran', 'Rajangam', '``', 'Maara', \"''\", 'sets', 'make', 'common', 'man', 'fly', 'process', 'takes', 'world', \"'s\", 'capital', 'intensive', 'industry', 'several', 'enemies', 'stand', 'way']\n",
            "Tweet 16: ['When', 'beautiful', 'stranger', 'leads', 'computer', 'hacker', 'Neo', 'forbidding', 'underworld', 'discovers', 'shocking', 'truth', '--', 'life', 'knows', 'elaborate', 'deception', 'evil', 'cyber-intelligence']\n",
            "Tweet 17: ['The', 'story', 'Henry', 'Hill', 'life', 'mob', 'covering', 'relationship', 'wife', 'Karen', 'Hill', 'mob', 'partners', 'Jimmy', 'Conway', 'Tommy', 'DeVito', 'Italian-American', 'crime', 'syndicate']\n",
            "Tweet 18: ['After', 'Rebels', 'brutally', 'overpowered', 'Empire', 'ice', 'planet', 'Hoth', 'Luke', 'Skywalker', 'begins', 'Jedi', 'training', 'Yoda', 'friends', 'pursued', 'across', 'galaxy', 'Darth', 'Vader', 'bounty', 'hunter', 'Boba', 'Fett']\n",
            "Tweet 19: ['A', 'criminal', 'pleads', 'insanity', 'admitted', 'mental', 'institution', 'rebels', 'oppressive', 'nurse', 'rallies', 'scared', 'patients']\n",
            "Tweet 20: ['A', 'high-octane', 'action', 'film', 'special', 'investigator', 'assigned', 'case', 'serial', 'Killings', 'finds', 'case', 'seems', 'leading', 'path', 'going', 'end', 'war', 'everyone', 'involved']\n"
          ]
        }
      ],
      "source": [
        "for i in range(21):\n",
        "    print(f\"Tweet {i}: {tokenized_nostopw_corpus[i]}\")"
      ]
    },
    {
      "cell_type": "markdown",
      "metadata": {
        "id": "B4O6cdrob96L"
      },
      "source": [
        "Creating an inverted index:"
      ]
    },
    {
      "cell_type": "markdown",
      "metadata": {
        "id": "TmPiq_5gcDKG"
      },
      "source": [
        "defining function for inverted index:"
      ]
    },
    {
      "cell_type": "code",
      "execution_count": 15,
      "metadata": {
        "id": "DfRxNAubbvyU"
      },
      "outputs": [],
      "source": [
        "def create_inverted_index(tokenized_tweets):\n",
        "    inverted_index = dict()\n",
        "    for document_idx in range(len(tokenized_tweets)):\n",
        "        for word in tokenized_tweets[document_idx]:\n",
        "            if word not in inverted_index:\n",
        "                inverted_index[word] = list()\n",
        "            inverted_index[word].append(document_idx)\n",
        "    \n",
        "    for key in inverted_index:\n",
        "        inverted_index[key] = list(set(inverted_index[key]))\n",
        "        \n",
        "    return inverted_index"
      ]
    },
    {
      "cell_type": "markdown",
      "metadata": {
        "id": "A3-9jKckcND6"
      },
      "source": [
        "calling inverted index function to create inverted index on the corpus:"
      ]
    },
    {
      "cell_type": "code",
      "execution_count": 16,
      "metadata": {
        "id": "5KH6zNRccMHy"
      },
      "outputs": [],
      "source": [
        "inverted_index = create_inverted_index(tokenized_nostopw_corpus)"
      ]
    },
    {
      "cell_type": "markdown",
      "metadata": {
        "id": "WhFy6Nc7ca8H"
      },
      "source": [
        "printing the corpus with inverted index:"
      ]
    },
    {
      "cell_type": "code",
      "execution_count": 17,
      "metadata": {
        "colab": {
          "base_uri": "https://localhost:8080/"
        },
        "id": "tvOrmjCWcaAu",
        "outputId": "8a245881-33a7-44a9-d406-a92396b62e19"
      },
      "outputs": [
        {
          "name": "stdout",
          "output_type": "stream",
          "text": [
            "Word: Two\n",
            "Text Indices: [0, 771, 516, 517, 519, 268, 528, 401, 402, 786, 278, 28, 289, 937, 560, 944, 695, 951, 189, 62, 63, 829, 577, 962, 708, 325, 71, 200, 974, 724, 980, 858, 869, 754, 118]\n",
            "\n",
            "Word: imprisoned\n",
            "Text Indices: [0, 330, 76, 558, 820, 119, 441]\n",
            "\n",
            "Word: men\n",
            "Text Indices: [0, 513, 516, 261, 137, 138, 14, 273, 291, 931, 563, 947, 317, 577, 196, 838, 713, 985, 869, 622, 120]\n",
            "\n",
            "Word: bond\n",
            "Text Indices: [0, 804, 487, 617, 268, 412]\n",
            "\n",
            "Word: number\n",
            "Text Indices: [0, 190]\n",
            "\n",
            "Word: years\n",
            "Text Indices: [0, 271, 912, 657, 21, 278, 287, 543, 682, 303, 689, 51, 62, 69, 454, 965, 76, 82, 340, 727, 600, 729, 219, 862, 224, 352, 480, 864, 880, 497, 115, 627, 628, 251, 380, 637, 638]\n",
            "\n",
            "Word: finding\n",
            "Text Indices: [0, 81, 994, 716]\n",
            "\n",
            "Word: solace\n",
            "Text Indices: [0, 489]\n",
            "\n",
            "Word: eventual\n",
            "Text Indices: [0]\n",
            "\n",
            "Word: redemption\n",
            "Text Indices: [0, 8, 489, 938, 816, 209, 849, 660]\n",
            "\n"
          ]
        }
      ],
      "source": [
        "for key in list(inverted_index.keys())[:10]:\n",
        "    print(f\"Word: {key}\\nText Indices: {inverted_index[key]}\\n\")"
      ]
    },
    {
      "cell_type": "markdown",
      "metadata": {
        "id": "Z1GLwnLkcrUV"
      },
      "source": [
        "Case folding:"
      ]
    },
    {
      "cell_type": "markdown",
      "metadata": {
        "id": "wX6yBOKicwwg"
      },
      "source": [
        "defining an function for case folding:"
      ]
    },
    {
      "cell_type": "code",
      "execution_count": 18,
      "metadata": {
        "id": "gCOP7doPcnK9"
      },
      "outputs": [],
      "source": [
        "def case_folding(tokenized_tweets):\n",
        "    _function = lambda tweet: [word.lower() for word in tweet]\n",
        "    return list(map(_function, tokenized_tweets))"
      ]
    },
    {
      "cell_type": "markdown",
      "metadata": {
        "id": "aBmoDrESc6Z9"
      },
      "source": [
        "calling case_folding function:"
      ]
    },
    {
      "cell_type": "code",
      "execution_count": 19,
      "metadata": {
        "id": "cG5V0EDSc514"
      },
      "outputs": [],
      "source": [
        "tokenized_nostopw_case_corpus = case_folding(tokenized_nostopw_corpus)"
      ]
    },
    {
      "cell_type": "markdown",
      "metadata": {
        "id": "VBtCnGbWdF3r"
      },
      "source": [
        "printing the corpus:"
      ]
    },
    {
      "cell_type": "code",
      "execution_count": 20,
      "metadata": {
        "colab": {
          "base_uri": "https://localhost:8080/"
        },
        "id": "Nkqv4KQidEHm",
        "outputId": "a2e272ce-ed8f-4ac8-8b8c-077cfad70334"
      },
      "outputs": [
        {
          "name": "stdout",
          "output_type": "stream",
          "text": [
            "Text 0: ['two', 'imprisoned', 'men', 'bond', 'number', 'years', 'finding', 'solace', 'eventual', 'redemption', 'acts', 'common', 'decency']\n",
            "Text 1: ['the', 'aging', 'patriarch', 'organized', 'crime', 'dynasty', 'postwar', 'new', 'york', 'city', 'transfers', 'control', 'clandestine', 'empire', 'reluctant', 'youngest', 'son']\n",
            "Text 2: ['when', 'menace', 'known', 'joker', 'wreaks', 'havoc', 'chaos', 'people', 'gotham', 'batman', 'must', 'accept', 'one', 'greatest', 'psychological', 'physical', 'tests', 'ability', 'fight', 'injustice']\n",
            "Text 3: ['gandalf', 'aragorn', 'lead', 'world', 'men', 'sauron', \"'s\", 'army', 'draw', 'gaze', 'frodo', 'sam', 'approach', 'mount', 'doom', 'one', 'ring']\n",
            "Text 4: ['in', 'german-occupied', 'poland', 'world', 'war', 'ii', 'industrialist', 'oskar', 'schindler', 'gradually', 'becomes', 'concerned', 'jewish', 'workforce', 'witnessing', 'persecution', 'nazis']\n",
            "Text 5: ['the', 'early', 'life', 'career', 'vito', 'corleone', '1920s', 'new', 'york', 'city', 'portrayed', 'son', 'michael', 'expands', 'tightens', 'grip', 'family', 'crime', 'syndicate']\n",
            "Text 6: ['the', 'jury', 'new', 'york', 'city', 'murder', 'trial', 'frustrated', 'single', 'member', 'whose', 'skeptical', 'caution', 'forces', 'carefully', 'consider', 'evidence', 'jumping', 'hasty', 'verdict']\n",
            "Text 7: ['when', 'tribal', 'man', 'arrested', 'case', 'alleged', 'theft', 'wife', 'turns', 'human-rights', 'lawyer', 'help', 'bring', 'justice']\n",
            "Text 8: ['the', 'lives', 'two', 'mob', 'hitmen', 'boxer', 'gangster', 'wife', 'pair', 'diner', 'bandits', 'intertwine', 'four', 'tales', 'violence', 'redemption']\n",
            "Text 9: ['a', 'thief', 'steals', 'corporate', 'secrets', 'use', 'dream-sharing', 'technology', 'given', 'inverse', 'task', 'planting', 'idea', 'mind', 'c.e.o.', 'tragic', 'past', 'may', 'doom', 'project', 'team', 'disaster']\n",
            "Text 10: ['while', 'frodo', 'sam', 'edge', 'closer', 'mordor', 'help', 'shifty', 'gollum', 'divided', 'fellowship', 'makes', 'stand', 'sauron', \"'s\", 'new', 'ally', 'saruman', 'hordes', 'isengard']\n",
            "Text 11: ['an', 'insomniac', 'office', 'worker', 'devil-may-care', 'soap', 'maker', 'form', 'underground', 'fight', 'club', 'evolves', 'much']\n",
            "Text 12: ['a', 'meek', 'hobbit', 'shire', 'eight', 'companions', 'set', 'journey', 'destroy', 'powerful', 'one', 'ring', 'save', 'middle-earth', 'dark', 'lord', 'sauron']\n",
            "Text 13: ['the', 'presidencies', 'kennedy', 'johnson', 'vietnam', 'war', 'watergate', 'scandal', 'historical', 'events', 'unfold', 'perspective', 'alabama', 'man', 'iq', '75', 'whose', 'desire', 'reunited', 'childhood', 'sweetheart']\n",
            "Text 14: ['a', 'bounty', 'hunting', 'scam', 'joins', 'two', 'men', 'uneasy', 'alliance', 'third', 'race', 'find', 'fortune', 'gold', 'buried', 'remote', 'cemetery']\n",
            "Text 15: ['nedumaaran', 'rajangam', '``', 'maara', \"''\", 'sets', 'make', 'common', 'man', 'fly', 'process', 'takes', 'world', \"'s\", 'capital', 'intensive', 'industry', 'several', 'enemies', 'stand', 'way']\n",
            "Text 16: ['when', 'beautiful', 'stranger', 'leads', 'computer', 'hacker', 'neo', 'forbidding', 'underworld', 'discovers', 'shocking', 'truth', '--', 'life', 'knows', 'elaborate', 'deception', 'evil', 'cyber-intelligence']\n",
            "Text 17: ['the', 'story', 'henry', 'hill', 'life', 'mob', 'covering', 'relationship', 'wife', 'karen', 'hill', 'mob', 'partners', 'jimmy', 'conway', 'tommy', 'devito', 'italian-american', 'crime', 'syndicate']\n",
            "Text 18: ['after', 'rebels', 'brutally', 'overpowered', 'empire', 'ice', 'planet', 'hoth', 'luke', 'skywalker', 'begins', 'jedi', 'training', 'yoda', 'friends', 'pursued', 'across', 'galaxy', 'darth', 'vader', 'bounty', 'hunter', 'boba', 'fett']\n",
            "Text 19: ['a', 'criminal', 'pleads', 'insanity', 'admitted', 'mental', 'institution', 'rebels', 'oppressive', 'nurse', 'rallies', 'scared', 'patients']\n",
            "Text 20: ['a', 'high-octane', 'action', 'film', 'special', 'investigator', 'assigned', 'case', 'serial', 'killings', 'finds', 'case', 'seems', 'leading', 'path', 'going', 'end', 'war', 'everyone', 'involved']\n"
          ]
        }
      ],
      "source": [
        "for i in range(21):\n",
        "    print(f\"Text {i}: {tokenized_nostopw_case_corpus[i]}\")"
      ]
    },
    {
      "cell_type": "markdown",
      "metadata": {
        "id": "l0vOsRn-dTiz"
      },
      "source": [
        "lemmatization:"
      ]
    },
    {
      "cell_type": "markdown",
      "metadata": {
        "id": "k0ug0IKCdUiJ"
      },
      "source": [
        "definging an function for lemmitizing the words:"
      ]
    },
    {
      "cell_type": "code",
      "execution_count": 21,
      "metadata": {
        "id": "RrVFBic3do2l"
      },
      "outputs": [],
      "source": [
        "def lemmatize_words(tokenized_tweets):\n",
        "    _function = lambda tweet: [lemmatizer.lemmatize(word) for word in tweet]\n",
        "    return list(map(_function, tokenized_tweets))"
      ]
    },
    {
      "cell_type": "markdown",
      "metadata": {
        "id": "AHSmTNajdU7g"
      },
      "source": [
        "calling lemmatize_words function:"
      ]
    },
    {
      "cell_type": "code",
      "execution_count": 22,
      "metadata": {
        "id": "64Rx2sxod0Fn"
      },
      "outputs": [],
      "source": [
        "tokenized_nostopw_case_lemm_corpus = lemmatize_words(tokenized_nostopw_case_corpus)"
      ]
    },
    {
      "cell_type": "markdown",
      "metadata": {
        "id": "_d2XlsZcdVzf"
      },
      "source": [
        "printing the lemmatized corpus:"
      ]
    },
    {
      "cell_type": "code",
      "execution_count": 23,
      "metadata": {
        "colab": {
          "base_uri": "https://localhost:8080/"
        },
        "id": "oFEhxRD-dMyR",
        "outputId": "4fba4814-e8ff-4f0c-cf7a-5fa45a7aa8b2"
      },
      "outputs": [
        {
          "name": "stdout",
          "output_type": "stream",
          "text": [
            "Text 0: ['two', 'imprisoned', 'men', 'bond', 'number', 'year', 'finding', 'solace', 'eventual', 'redemption', 'act', 'common', 'decency']\n",
            "Text 1: ['the', 'aging', 'patriarch', 'organized', 'crime', 'dynasty', 'postwar', 'new', 'york', 'city', 'transfer', 'control', 'clandestine', 'empire', 'reluctant', 'youngest', 'son']\n",
            "Text 2: ['when', 'menace', 'known', 'joker', 'wreaks', 'havoc', 'chaos', 'people', 'gotham', 'batman', 'must', 'accept', 'one', 'greatest', 'psychological', 'physical', 'test', 'ability', 'fight', 'injustice']\n",
            "Text 3: ['gandalf', 'aragorn', 'lead', 'world', 'men', 'sauron', \"'s\", 'army', 'draw', 'gaze', 'frodo', 'sam', 'approach', 'mount', 'doom', 'one', 'ring']\n",
            "Text 4: ['in', 'german-occupied', 'poland', 'world', 'war', 'ii', 'industrialist', 'oskar', 'schindler', 'gradually', 'becomes', 'concerned', 'jewish', 'workforce', 'witnessing', 'persecution', 'nazi']\n",
            "Text 5: ['the', 'early', 'life', 'career', 'vito', 'corleone', '1920s', 'new', 'york', 'city', 'portrayed', 'son', 'michael', 'expands', 'tightens', 'grip', 'family', 'crime', 'syndicate']\n",
            "Text 6: ['the', 'jury', 'new', 'york', 'city', 'murder', 'trial', 'frustrated', 'single', 'member', 'whose', 'skeptical', 'caution', 'force', 'carefully', 'consider', 'evidence', 'jumping', 'hasty', 'verdict']\n",
            "Text 7: ['when', 'tribal', 'man', 'arrested', 'case', 'alleged', 'theft', 'wife', 'turn', 'human-rights', 'lawyer', 'help', 'bring', 'justice']\n",
            "Text 8: ['the', 'life', 'two', 'mob', 'hitman', 'boxer', 'gangster', 'wife', 'pair', 'diner', 'bandit', 'intertwine', 'four', 'tale', 'violence', 'redemption']\n",
            "Text 9: ['a', 'thief', 'steal', 'corporate', 'secret', 'use', 'dream-sharing', 'technology', 'given', 'inverse', 'task', 'planting', 'idea', 'mind', 'c.e.o.', 'tragic', 'past', 'may', 'doom', 'project', 'team', 'disaster']\n",
            "Text 10: ['while', 'frodo', 'sam', 'edge', 'closer', 'mordor', 'help', 'shifty', 'gollum', 'divided', 'fellowship', 'make', 'stand', 'sauron', \"'s\", 'new', 'ally', 'saruman', 'horde', 'isengard']\n",
            "Text 11: ['an', 'insomniac', 'office', 'worker', 'devil-may-care', 'soap', 'maker', 'form', 'underground', 'fight', 'club', 'evolves', 'much']\n",
            "Text 12: ['a', 'meek', 'hobbit', 'shire', 'eight', 'companion', 'set', 'journey', 'destroy', 'powerful', 'one', 'ring', 'save', 'middle-earth', 'dark', 'lord', 'sauron']\n",
            "Text 13: ['the', 'presidency', 'kennedy', 'johnson', 'vietnam', 'war', 'watergate', 'scandal', 'historical', 'event', 'unfold', 'perspective', 'alabama', 'man', 'iq', '75', 'whose', 'desire', 'reunited', 'childhood', 'sweetheart']\n",
            "Text 14: ['a', 'bounty', 'hunting', 'scam', 'join', 'two', 'men', 'uneasy', 'alliance', 'third', 'race', 'find', 'fortune', 'gold', 'buried', 'remote', 'cemetery']\n",
            "Text 15: ['nedumaaran', 'rajangam', '``', 'maara', \"''\", 'set', 'make', 'common', 'man', 'fly', 'process', 'take', 'world', \"'s\", 'capital', 'intensive', 'industry', 'several', 'enemy', 'stand', 'way']\n",
            "Text 16: ['when', 'beautiful', 'stranger', 'lead', 'computer', 'hacker', 'neo', 'forbidding', 'underworld', 'discovers', 'shocking', 'truth', '--', 'life', 'know', 'elaborate', 'deception', 'evil', 'cyber-intelligence']\n",
            "Text 17: ['the', 'story', 'henry', 'hill', 'life', 'mob', 'covering', 'relationship', 'wife', 'karen', 'hill', 'mob', 'partner', 'jimmy', 'conway', 'tommy', 'devito', 'italian-american', 'crime', 'syndicate']\n",
            "Text 18: ['after', 'rebel', 'brutally', 'overpowered', 'empire', 'ice', 'planet', 'hoth', 'luke', 'skywalker', 'begin', 'jedi', 'training', 'yoda', 'friend', 'pursued', 'across', 'galaxy', 'darth', 'vader', 'bounty', 'hunter', 'boba', 'fett']\n",
            "Text 19: ['a', 'criminal', 'pleads', 'insanity', 'admitted', 'mental', 'institution', 'rebel', 'oppressive', 'nurse', 'rally', 'scared', 'patient']\n"
          ]
        }
      ],
      "source": [
        "for i in range(20):\n",
        "    print(f\"Text {i}: {tokenized_nostopw_case_lemm_corpus[i]}\")"
      ]
    },
    {
      "cell_type": "markdown",
      "metadata": {
        "id": "KF6n4b-GeKZB"
      },
      "source": [
        "stemming:"
      ]
    },
    {
      "cell_type": "markdown",
      "metadata": {
        "id": "AX-_wARKeOXS"
      },
      "source": [
        "defining a function for stemming:"
      ]
    },
    {
      "cell_type": "code",
      "execution_count": 24,
      "metadata": {
        "id": "ygER_kzmeDrn"
      },
      "outputs": [],
      "source": [
        "def stem_words(tokenized_tweets):\n",
        "    _function = lambda tweet: [stemmer.stem(word) for word in tweet]\n",
        "    return list(map(_function, tokenized_tweets))"
      ]
    },
    {
      "cell_type": "markdown",
      "metadata": {
        "id": "6or13cOXeoc9"
      },
      "source": [
        "calling a stemming function:"
      ]
    },
    {
      "cell_type": "code",
      "execution_count": 25,
      "metadata": {
        "id": "CzWsTMgVem97"
      },
      "outputs": [],
      "source": [
        "tokenized_nostopw_case_stem_corpus = lemmatize_words(tokenized_nostopw_case_corpus)"
      ]
    },
    {
      "cell_type": "markdown",
      "metadata": {
        "id": "i3IPxxCreyve"
      },
      "source": [
        "printing the stemmitized corpus:"
      ]
    },
    {
      "cell_type": "code",
      "execution_count": 26,
      "metadata": {
        "colab": {
          "base_uri": "https://localhost:8080/"
        },
        "id": "yPtv_mVoexwD",
        "outputId": "9aedc246-fc4c-4208-c77b-4cf2e5ad9c3d"
      },
      "outputs": [
        {
          "name": "stdout",
          "output_type": "stream",
          "text": [
            "Tweet 0: ['two', 'imprisoned', 'men', 'bond', 'number', 'year', 'finding', 'solace', 'eventual', 'redemption', 'act', 'common', 'decency']\n",
            "Tweet 1: ['the', 'aging', 'patriarch', 'organized', 'crime', 'dynasty', 'postwar', 'new', 'york', 'city', 'transfer', 'control', 'clandestine', 'empire', 'reluctant', 'youngest', 'son']\n",
            "Tweet 2: ['when', 'menace', 'known', 'joker', 'wreaks', 'havoc', 'chaos', 'people', 'gotham', 'batman', 'must', 'accept', 'one', 'greatest', 'psychological', 'physical', 'test', 'ability', 'fight', 'injustice']\n",
            "Tweet 3: ['gandalf', 'aragorn', 'lead', 'world', 'men', 'sauron', \"'s\", 'army', 'draw', 'gaze', 'frodo', 'sam', 'approach', 'mount', 'doom', 'one', 'ring']\n",
            "Tweet 4: ['in', 'german-occupied', 'poland', 'world', 'war', 'ii', 'industrialist', 'oskar', 'schindler', 'gradually', 'becomes', 'concerned', 'jewish', 'workforce', 'witnessing', 'persecution', 'nazi']\n",
            "Tweet 5: ['the', 'early', 'life', 'career', 'vito', 'corleone', '1920s', 'new', 'york', 'city', 'portrayed', 'son', 'michael', 'expands', 'tightens', 'grip', 'family', 'crime', 'syndicate']\n",
            "Tweet 6: ['the', 'jury', 'new', 'york', 'city', 'murder', 'trial', 'frustrated', 'single', 'member', 'whose', 'skeptical', 'caution', 'force', 'carefully', 'consider', 'evidence', 'jumping', 'hasty', 'verdict']\n",
            "Tweet 7: ['when', 'tribal', 'man', 'arrested', 'case', 'alleged', 'theft', 'wife', 'turn', 'human-rights', 'lawyer', 'help', 'bring', 'justice']\n",
            "Tweet 8: ['the', 'life', 'two', 'mob', 'hitman', 'boxer', 'gangster', 'wife', 'pair', 'diner', 'bandit', 'intertwine', 'four', 'tale', 'violence', 'redemption']\n",
            "Tweet 9: ['a', 'thief', 'steal', 'corporate', 'secret', 'use', 'dream-sharing', 'technology', 'given', 'inverse', 'task', 'planting', 'idea', 'mind', 'c.e.o.', 'tragic', 'past', 'may', 'doom', 'project', 'team', 'disaster']\n",
            "Tweet 10: ['while', 'frodo', 'sam', 'edge', 'closer', 'mordor', 'help', 'shifty', 'gollum', 'divided', 'fellowship', 'make', 'stand', 'sauron', \"'s\", 'new', 'ally', 'saruman', 'horde', 'isengard']\n",
            "Tweet 11: ['an', 'insomniac', 'office', 'worker', 'devil-may-care', 'soap', 'maker', 'form', 'underground', 'fight', 'club', 'evolves', 'much']\n",
            "Tweet 12: ['a', 'meek', 'hobbit', 'shire', 'eight', 'companion', 'set', 'journey', 'destroy', 'powerful', 'one', 'ring', 'save', 'middle-earth', 'dark', 'lord', 'sauron']\n",
            "Tweet 13: ['the', 'presidency', 'kennedy', 'johnson', 'vietnam', 'war', 'watergate', 'scandal', 'historical', 'event', 'unfold', 'perspective', 'alabama', 'man', 'iq', '75', 'whose', 'desire', 'reunited', 'childhood', 'sweetheart']\n",
            "Tweet 14: ['a', 'bounty', 'hunting', 'scam', 'join', 'two', 'men', 'uneasy', 'alliance', 'third', 'race', 'find', 'fortune', 'gold', 'buried', 'remote', 'cemetery']\n",
            "Tweet 15: ['nedumaaran', 'rajangam', '``', 'maara', \"''\", 'set', 'make', 'common', 'man', 'fly', 'process', 'take', 'world', \"'s\", 'capital', 'intensive', 'industry', 'several', 'enemy', 'stand', 'way']\n",
            "Tweet 16: ['when', 'beautiful', 'stranger', 'lead', 'computer', 'hacker', 'neo', 'forbidding', 'underworld', 'discovers', 'shocking', 'truth', '--', 'life', 'know', 'elaborate', 'deception', 'evil', 'cyber-intelligence']\n",
            "Tweet 17: ['the', 'story', 'henry', 'hill', 'life', 'mob', 'covering', 'relationship', 'wife', 'karen', 'hill', 'mob', 'partner', 'jimmy', 'conway', 'tommy', 'devito', 'italian-american', 'crime', 'syndicate']\n",
            "Tweet 18: ['after', 'rebel', 'brutally', 'overpowered', 'empire', 'ice', 'planet', 'hoth', 'luke', 'skywalker', 'begin', 'jedi', 'training', 'yoda', 'friend', 'pursued', 'across', 'galaxy', 'darth', 'vader', 'bounty', 'hunter', 'boba', 'fett']\n",
            "Tweet 19: ['a', 'criminal', 'pleads', 'insanity', 'admitted', 'mental', 'institution', 'rebel', 'oppressive', 'nurse', 'rally', 'scared', 'patient']\n"
          ]
        }
      ],
      "source": [
        "for i in range(20):\n",
        "    print(f\"Tweet {i}: {tokenized_nostopw_case_stem_corpus[i]}\")"
      ]
    },
    {
      "cell_type": "markdown",
      "metadata": {
        "id": "fc4OyZnhfRug"
      },
      "source": [
        "New inverted index:"
      ]
    },
    {
      "cell_type": "code",
      "execution_count": 27,
      "metadata": {
        "id": "LPJ2ajaye36Z"
      },
      "outputs": [],
      "source": [
        "inverted_index_processed = create_inverted_index(tokenized_nostopw_case_lemm_corpus) # tokenized"
      ]
    },
    {
      "cell_type": "code",
      "execution_count": 28,
      "metadata": {
        "colab": {
          "base_uri": "https://localhost:8080/"
        },
        "id": "L89wK0e8fcLm",
        "outputId": "e50e61bd-ea3c-443d-a791-72c4b33ee471"
      },
      "outputs": [
        {
          "name": "stdout",
          "output_type": "stream",
          "text": [
            "Word: two\n",
            "Text Indices: [0, 516, 517, 519, 8, 14, 528, 23, 28, 31, 543, 549, 41, 560, 562, 62, 63, 574, 577, 71, 96, 624, 628, 118, 120, 137, 159, 175, 695, 699, 189, 191, 192, 706, 708, 200, 713, 721, 722, 724, 736, 738, 754, 243, 757, 255, 771, 263, 268, 786, 278, 792, 282, 284, 797, 289, 291, 297, 300, 301, 303, 815, 817, 309, 821, 312, 829, 324, 325, 841, 330, 844, 335, 346, 858, 355, 869, 376, 899, 906, 401, 402, 412, 925, 414, 931, 424, 425, 937, 944, 951, 961, 962, 452, 974, 980, 480, 508]\n",
            "\n",
            "Word: imprisoned\n",
            "Text Indices: [0, 330, 76, 473, 558, 820, 119, 441]\n",
            "\n",
            "Word: men\n",
            "Text Indices: [0, 513, 3, 516, 261, 137, 138, 14, 273, 291, 931, 563, 947, 317, 577, 196, 838, 713, 985, 869, 622, 120]\n",
            "\n",
            "Word: bond\n",
            "Text Indices: [0, 896, 804, 487, 617, 268, 242, 378, 412, 639]\n",
            "\n",
            "Word: number\n",
            "Text Indices: [0, 190]\n",
            "\n",
            "Word: year\n",
            "Text Indices: [0, 514, 637, 271, 912, 657, 21, 278, 155, 540, 286, 287, 543, 801, 682, 303, 689, 690, 51, 62, 69, 454, 839, 965, 76, 209, 82, 340, 727, 600, 729, 219, 862, 224, 352, 480, 864, 740, 880, 497, 115, 627, 628, 251, 380, 381, 638]\n",
            "\n",
            "Word: finding\n",
            "Text Indices: [0, 81, 994, 716]\n",
            "\n",
            "Word: solace\n",
            "Text Indices: [0, 489]\n",
            "\n",
            "Word: eventual\n",
            "Text Indices: [0]\n",
            "\n",
            "Word: redemption\n",
            "Text Indices: [0, 8, 489, 938, 816, 209, 849, 660]\n",
            "\n"
          ]
        }
      ],
      "source": [
        "for key in list(inverted_index_processed.keys())[:10]:\n",
        "    print(f\"Word: {key}\\nText Indices: {inverted_index_processed[key]}\\n\")"
      ]
    },
    {
      "cell_type": "markdown",
      "metadata": {
        "id": "XJJVmXFGfogV"
      },
      "source": [
        "defining an parse query to retrive parse data:"
      ]
    },
    {
      "cell_type": "code",
      "execution_count": 29,
      "metadata": {
        "id": "_uH27zb6ffs6"
      },
      "outputs": [],
      "source": [
        "def parse_query(infix_tokens):\n",
        "    \n",
        "    precedence = {}\n",
        "    precedence['NOT'] = 3\n",
        "    precedence['AND'] = 2\n",
        "    precedence['OR'] = 1\n",
        "    precedence['('] = 0\n",
        "    precedence[')'] = 0    \n",
        "\n",
        "    output = []\n",
        "    operator_stack = []\n",
        "\n",
        "    for token in infix_tokens:\n",
        "        if (token == '('):\n",
        "            operator_stack.append(token)\n",
        "\n",
        "        elif (token == ')'):\n",
        "            operator = operator_stack.pop()\n",
        "            while operator != '(':\n",
        "                output.append(operator)\n",
        "                operator = operator_stack.pop()\n",
        "\n",
        "        elif (token in precedence):\n",
        "            if (operator_stack):\n",
        "                current_operator = operator_stack[-1]\n",
        "                while (operator_stack and precedence[current_operator] > precedence[token]):\n",
        "                    output.append(operator_stack.pop())\n",
        "                    if (operator_stack):\n",
        "                        current_operator = operator_stack[-1]\n",
        "            operator_stack.append(token) # add token to stack\n",
        "        else:\n",
        "            output.append(token.lower())\n",
        "\n",
        "    while (operator_stack):\n",
        "        output.append(operator_stack.pop())\n",
        "\n",
        "    return output"
      ]
    },
    {
      "cell_type": "markdown",
      "metadata": {
        "id": "Nam2fDUvf86u"
      },
      "source": [
        "definging an boolean function to retrive boolean data:"
      ]
    },
    {
      "cell_type": "code",
      "execution_count": 30,
      "metadata": {
        "id": "pXbMFIEZf7WH"
      },
      "outputs": [],
      "source": [
        "def boolean_query(query, inverted_index):\n",
        "    query = query.strip()\n",
        "    query_tokens = query.split()\n",
        "    boolean_query = parse_query(query_tokens)\n",
        "        \n",
        "    result_stack = list()\n",
        "    for idx, token in enumerate(boolean_query):\n",
        "        if token not in [\"AND\", \"NOT\", \"OR\"]:\n",
        "            result = set(inverted_index[token])\n",
        "        else:\n",
        "            if token in ['AND', 'OR']:\n",
        "                right_operand = result_stack.pop()\n",
        "                left_operand = result_stack.pop()\n",
        "                \n",
        "                if token == 'AND':\n",
        "                    operation = set.intersection\n",
        "                else:\n",
        "                    operation = set.union\n",
        "                \n",
        "                result = operation(left_operand, right_operand)\n",
        "                \n",
        "            else:\n",
        "                operand = result_stack.pop()\n",
        "                complement_document_ids = inverted_index[boolean_query[idx-1]]\n",
        "                result = list()\n",
        "                for word in inverted_index:\n",
        "                    result.extend([_id for _id in inverted_index[word] if _id not in complement_document_ids])\n",
        "                result = set(result)\n",
        "                \n",
        "        result_stack.append(result)\n",
        "    \n",
        "    return result_stack.pop()"
      ]
    },
    {
      "cell_type": "markdown",
      "metadata": {
        "id": "OiTQsh8VgRVL"
      },
      "source": [
        "retrive the boolean data for \"the\" and \"mob\" words:"
      ]
    },
    {
      "cell_type": "code",
      "execution_count": 31,
      "metadata": {
        "colab": {
          "base_uri": "https://localhost:8080/"
        },
        "id": "47NXJMligJGT",
        "outputId": "14fef9bb-9898-4aa4-d4aa-093709843a62"
      },
      "outputs": [
        {
          "name": "stdout",
          "output_type": "stream",
          "text": [
            "Document IDs: {8, 17}\n"
          ]
        }
      ],
      "source": [
        "document_ids = boolean_query(\"the AND mob\", inverted_index_processed)\n",
        "print(f\"Document IDs: {document_ids}\")"
      ]
    },
    {
      "cell_type": "markdown",
      "metadata": {
        "id": "dUdHUF6ngjPN"
      },
      "source": [
        "Retrive the boolean data for words \"the\" and \"criminal\" or \"rebel\":"
      ]
    },
    {
      "cell_type": "code",
      "execution_count": 32,
      "metadata": {
        "colab": {
          "base_uri": "https://localhost:8080/"
        },
        "id": "DLKTxEU6gezc",
        "outputId": "2a762494-d4b5-44fa-e55e-92a4f75c9317"
      },
      "outputs": [
        {
          "name": "stdout",
          "output_type": "stream",
          "text": [
            "Document IDs: {18, 19, 885, 870, 117, 827, 238}\n"
          ]
        }
      ],
      "source": [
        "document_ids = boolean_query(\"the AND criminal OR rebel\", inverted_index_processed)\n",
        "print(f\"Document IDs: {document_ids}\")"
      ]
    },
    {
      "cell_type": "markdown",
      "metadata": {
        "id": "9DBG3kwPg0sz"
      },
      "source": [
        "definiging an function to create positional index:"
      ]
    },
    {
      "cell_type": "code",
      "execution_count": 33,
      "metadata": {
        "id": "oWz2RHvegiVt"
      },
      "outputs": [],
      "source": [
        "def construct_positional_posting_list(tokenized_corpus):\n",
        "    positional_index = dict()\n",
        "    for tweet_id, tweet in enumerate(tokenized_corpus):\n",
        "        for token_id, token in enumerate(tweet):\n",
        "            if token not in positional_index:\n",
        "                positional_index[token] = dict()\n",
        "            if tweet_id not in positional_index[token]:\n",
        "                positional_index[token][tweet_id] = list()\n",
        "            positional_index[token][tweet_id].append(token_id)\n",
        "    \n",
        "    for token in positional_index:\n",
        "        for tweet_id in positional_index[token]:\n",
        "            positional_index[token][tweet_id] = sorted(positional_index[token][tweet_id])\n",
        "        items = list(positional_index[token].items())\n",
        "        items.sort(key=lambda x: x[0])\n",
        "        for k, v in items:\n",
        "            positional_index[token][k] = v\n",
        "            \n",
        "    return positional_index"
      ]
    },
    {
      "cell_type": "markdown",
      "metadata": {
        "id": "7Me2mcI9hAZH"
      },
      "source": [
        "calling positional_index function to return positional indexes:"
      ]
    },
    {
      "cell_type": "code",
      "execution_count": 34,
      "metadata": {
        "id": "jyFtRCMLg_F5"
      },
      "outputs": [],
      "source": [
        "positional_index = construct_positional_posting_list(tokenized_nostopw_case_lemm_corpus)"
      ]
    },
    {
      "cell_type": "markdown",
      "metadata": {
        "id": "JCxydcn0hLqP"
      },
      "source": [
        "printing positional indexes:"
      ]
    },
    {
      "cell_type": "code",
      "execution_count": 35,
      "metadata": {
        "colab": {
          "base_uri": "https://localhost:8080/"
        },
        "id": "DCuNjd53hLEE",
        "outputId": "c4cf50d7-73d4-47dd-fda2-d14641995535"
      },
      "outputs": [
        {
          "name": "stdout",
          "output_type": "stream",
          "text": [
            "Word: two\n",
            "Text & Token Indices: {0: [0], 8: [2], 14: [5], 23: [3], 28: [0], 31: [9], 41: [3], 62: [0], 63: [0], 71: [0], 96: [5], 118: [0], 120: [16], 137: [12], 159: [10], 175: [8], 189: [0], 191: [6], 192: [1], 200: [0], 243: [3], 255: [5], 263: [14], 268: [0], 278: [0], 282: [1], 284: [9], 289: [0], 291: [3], 297: [11], 300: [12], 301: [9], 303: [6], 309: [4], 312: [2], 324: [5], 325: [0], 330: [2], 335: [3], 346: [10], 355: [5], 376: [1], 401: [0], 402: [0], 412: [20], 414: [7], 424: [7], 425: [8], 452: [1], 480: [8], 508: [3], 516: [0, 6], 517: [6, 9], 519: [0], 528: [0], 543: [1, 3], 549: [18], 560: [0], 562: [4], 574: [7], 577: [0], 624: [14], 628: [19], 695: [0], 699: [16], 706: [6], 708: [0], 713: [10], 721: [10], 722: [3], 724: [0], 736: [6], 738: [17], 754: [0], 757: [6], 771: [0], 786: [0], 792: [9], 797: [2], 815: [11], 817: [1], 821: [2, 13], 829: [0], 841: [13], 844: [3], 858: [0, 3], 869: [0], 899: [4], 906: [15], 925: [6], 931: [2], 937: [0], 944: [0], 951: [0], 961: [7], 962: [16], 974: [0], 980: [0]}\n",
            "\n",
            "Word: imprisoned\n",
            "Text & Token Indices: {0: [1], 76: [2], 119: [5], 330: [6], 441: [12], 473: [0], 558: [17], 820: [4]}\n",
            "\n",
            "Word: men\n",
            "Text & Token Indices: {0: [2], 3: [4], 14: [6], 120: [17], 137: [21], 138: [11], 196: [6], 261: [2], 273: [5], 291: [4], 317: [1], 513: [3], 516: [1], 563: [7], 577: [1], 622: [2], 713: [11], 838: [5], 869: [1], 931: [3], 947: [5], 985: [2]}\n",
            "\n",
            "Word: bond\n",
            "Text & Token Indices: {0: [3], 242: [3], 268: [4, 12], 378: [9, 14], 412: [25], 487: [22], 617: [2], 639: [1], 804: [9], 896: [7]}\n",
            "\n",
            "Word: number\n",
            "Text & Token Indices: {0: [4], 190: [6]}\n",
            "\n",
            "Word: year\n",
            "Text & Token Indices: {0: [5], 21: [2], 51: [9], 62: [7], 69: [1], 76: [4], 82: [1], 115: [11], 155: [10], 209: [11], 219: [3], 224: [9, 16], 251: [1], 271: [5], 278: [14], 286: [13], 287: [6], 303: [7], 340: [13], 352: [18], 380: [8], 381: [8], 454: [25], 480: [5], 497: [3], 514: [10], 540: [3], 543: [4], 600: [11], 627: [8], 628: [21], 637: [7], 638: [11], 657: [7], 682: [6], 689: [5], 690: [4], 727: [6], 729: [1], 740: [1], 801: [5], 839: [7], 862: [3], 864: [15], 880: [1], 912: [11], 965: [1]}\n",
            "\n",
            "Word: finding\n",
            "Text & Token Indices: {0: [6], 81: [1], 716: [11], 994: [9]}\n",
            "\n",
            "Word: solace\n",
            "Text & Token Indices: {0: [7], 489: [7]}\n",
            "\n",
            "Word: eventual\n",
            "Text & Token Indices: {0: [8]}\n",
            "\n",
            "Word: redemption\n",
            "Text & Token Indices: {0: [9], 8: [15], 209: [15], 489: [18], 660: [11], 816: [15], 849: [11], 938: [7]}\n",
            "\n"
          ]
        }
      ],
      "source": [
        "for key in list(positional_index.keys())[:10]:\n",
        "    print(f\"Word: {key}\\nText & Token Indices: {positional_index[key]}\\n\")"
      ]
    },
    {
      "cell_type": "markdown",
      "metadata": {
        "id": "Vs2vGaQWhdqA"
      },
      "source": [
        "checking parse query with positional index:"
      ]
    },
    {
      "cell_type": "code",
      "execution_count": 36,
      "metadata": {
        "id": "AOLbQLK9hUXc"
      },
      "outputs": [],
      "source": [
        "def positional_intersect(a1, a2, K):\n",
        "    answer = list()\n",
        "    i = 0\n",
        "    j = 0\n",
        "    while i < len(a1) and j < len(a2):\n",
        "        document_id_a1 = list(a1.keys())[i]\n",
        "        document_id_a2 = list(a2.keys())[j]\n",
        "        \n",
        "        if document_id_a1 == document_id_a2:\n",
        "            l = list()\n",
        "            aa1 = a1[document_id_a1]\n",
        "            aa2 = a2[document_id_a2]\n",
        "            \n",
        "            k = 0\n",
        "            while k < len(aa1):\n",
        "                m = 0\n",
        "                while m < len(aa2):\n",
        "                    distance = aa2[m] - aa1[k]\n",
        "                    if distance == K:\n",
        "                        l.append(m)\n",
        "                    m += 1\n",
        "                \n",
        "                for ps in l:\n",
        "                    distance = (aa2[ps] - aa1[k])\n",
        "                    if distance != K:\n",
        "                        l.remove(ps)\n",
        "                        \n",
        "                for ps in l:\n",
        "                    answer.append((document_id_a1, aa1[k], aa2[ps]))\n",
        "                \n",
        "                k += 1\n",
        "            \n",
        "            i += 1\n",
        "            j += 1\n",
        "        \n",
        "        elif document_id_a1 < document_id_a2:\n",
        "            i += 1\n",
        "        else:\n",
        "            j += 1\n",
        "    \n",
        "    return answer"
      ]
    },
    {
      "cell_type": "code",
      "execution_count": 37,
      "metadata": {
        "id": "SvlpKrgQiOCN"
      },
      "outputs": [],
      "source": [
        "to = {\n",
        "    1: [7,18,33,72,86,231],\n",
        "    2: [1,17,74,222,255],\n",
        "    4: [8,16,190,429,433],\n",
        "    5: [363,367],\n",
        "    7: [13,23,191]\n",
        "}\n",
        "        \n",
        "be = {\n",
        "    1: [17,25],\n",
        "    4: [17,191,291,430,434],\n",
        "    5: [14,19,101]\n",
        "}"
      ]
    },
    {
      "cell_type": "markdown",
      "metadata": {
        "id": "NflO-xL2iT6S"
      },
      "source": [
        "calling positional index function:"
      ]
    },
    {
      "cell_type": "code",
      "execution_count": 38,
      "metadata": {
        "colab": {
          "base_uri": "https://localhost:8080/"
        },
        "id": "ZgEL1EV5iS2R",
        "outputId": "425f6e06-a3d9-4a58-99cb-77bb5df77eff"
      },
      "outputs": [
        {
          "data": {
            "text/plain": [
              "[(4, 16, 17), (4, 190, 191), (4, 429, 430), (4, 433, 434)]"
            ]
          },
          "execution_count": 38,
          "metadata": {},
          "output_type": "execute_result"
        }
      ],
      "source": [
        "positional_intersect(to, be, 1)"
      ]
    },
    {
      "cell_type": "markdown",
      "metadata": {
        "id": "UC8dj5QsihRP"
      },
      "source": [
        "definging a function to search positional index:"
      ]
    },
    {
      "cell_type": "code",
      "execution_count": 39,
      "metadata": {
        "id": "g0bJjO0Die5m"
      },
      "outputs": [],
      "source": [
        "def search_positional_index(query):\n",
        "    query = query.split()\n",
        "    words = [query[i] for i in range(0, len(query), 2)]\n",
        "    k = [int(query[i][1:]) for i in range(1, len(query), 2)]\n",
        "    \n",
        "    document_list = list()\n",
        "    for i in range(0, len(words)-1):\n",
        "        word1, word2 = words[i:i+2]\n",
        "        p1 = positional_index[word1]\n",
        "        p2 = positional_index[word2]\n",
        "        result = positional_intersect(p1, p2, k[i])\n",
        "        document_list.extend(result)\n",
        "        \n",
        "    return document_list"
      ]
    },
    {
      "cell_type": "markdown",
      "metadata": {
        "id": "ADwNXIziiwvI"
      },
      "source": [
        "returning the positional indexes:"
      ]
    },
    {
      "cell_type": "code",
      "execution_count": 40,
      "metadata": {
        "colab": {
          "base_uri": "https://localhost:8080/"
        },
        "id": "OgctBfs8ilr2",
        "outputId": "96691f2e-a584-4420-a034-ec80d2468f6f"
      },
      "outputs": [
        {
          "data": {
            "text/plain": [
              "[(0, 2, 3)]"
            ]
          },
          "execution_count": 40,
          "metadata": {},
          "output_type": "execute_result"
        }
      ],
      "source": [
        "search_positional_index(\"two /1 imprisoned\")\n",
        "search_positional_index(\"men /1 bond\")"
      ]
    },
    {
      "cell_type": "markdown",
      "metadata": {
        "id": "2ctBVXhli8LP"
      },
      "source": [
        "Handling wild card queries and parse queries using inverted index:"
      ]
    },
    {
      "cell_type": "code",
      "execution_count": 41,
      "metadata": {
        "id": "aEb70VlViwED"
      },
      "outputs": [],
      "source": [
        "def search(query):\n",
        "    if '*' in query:\n",
        "        query = query.replace('*', '')\n",
        "        result = []\n",
        "        for word in inverted_index_processed:\n",
        "            if query in word:\n",
        "                result.extend(inverted_index_processed[word])\n",
        "        return result\n",
        "    elif '\"' in query:\n",
        "        query = query.replace('\"', '')\n",
        "        result = []\n",
        "        for word in inverted_index_processed:\n",
        "            if query == word:\n",
        "                result.extend(inverted_index_processed[word])\n",
        "        return result\n",
        "    else:\n",
        "        return inverted_index_processed[query]"
      ]
    },
    {
      "cell_type": "markdown",
      "metadata": {
        "id": "6ggicz8ojNt6"
      },
      "source": [
        "searching for the word \"criminal\""
      ]
    },
    {
      "cell_type": "code",
      "execution_count": 42,
      "metadata": {
        "colab": {
          "base_uri": "https://localhost:8080/"
        },
        "id": "5DOJWNFBjNJe",
        "outputId": "170d40e9-4a98-4edd-f9df-ec3bde4cb578"
      },
      "outputs": [
        {
          "data": {
            "text/plain": [
              "[928,\n",
              " 321,\n",
              " 133,\n",
              " 870,\n",
              " 424,\n",
              " 460,\n",
              " 46,\n",
              " 366,\n",
              " 925,\n",
              " 113,\n",
              " 402,\n",
              " 19,\n",
              " 943,\n",
              " 829,\n",
              " 350,\n",
              " 191,\n",
              " 153]"
            ]
          },
          "execution_count": 42,
          "metadata": {},
          "output_type": "execute_result"
        }
      ],
      "source": [
        "search('criminal*')"
      ]
    },
    {
      "cell_type": "markdown",
      "metadata": {
        "id": "KmRv68P0jchg"
      },
      "source": [
        "Retrive text using similarity indes:"
      ]
    },
    {
      "cell_type": "code",
      "execution_count": 43,
      "metadata": {
        "id": "CtMDIAVajWJ8"
      },
      "outputs": [],
      "source": [
        "def retrieve_relevant_text(query):\n",
        "    # handle wildcard and phase queries\n",
        "    docs = search(query)\n",
        "    # get the relevant text\n",
        "    relevant_text = []\n",
        "    for doc in docs:\n",
        "        relevant_text.append(df.loc[df['id'] == doc]['Description'].values[0])\n",
        "    return relevant_text"
      ]
    },
    {
      "cell_type": "code",
      "execution_count": 44,
      "metadata": {
        "id": "bBCspqYqjl9b"
      },
      "outputs": [],
      "source": [
        "df['id'] = range(0, len(df))"
      ]
    },
    {
      "cell_type": "code",
      "execution_count": 45,
      "metadata": {
        "colab": {
          "base_uri": "https://localhost:8080/"
        },
        "id": "vjwJ20mEjo7U",
        "outputId": "084a77fe-8c2a-42c8-dc99-860710808f4e"
      },
      "outputs": [
        {
          "data": {
            "text/plain": [
              "['When a criminal mastermind uses a trio of orphan girls as pawns for a grand scheme, he finds their love is profoundly changing him for the better.',\n",
              " 'A psychopathic criminal with a mother complex makes a daring break from prison and leads his old gang in a chemical plant payroll heist.',\n",
              " 'When the police in a German city are unable to catch a child-murderer, other criminals join in the manhunt.',\n",
              " 'The discovery of a severed human ear found in a field leads a young man on an investigation related to a beautiful, mysterious nightclub singer and a group of psychopathic criminals who have kidnapped her child.',\n",
              " \"A French convict in the 1930s befriends a fellow criminal as the two of them begin serving their sentence in the South American penal colony on Devil's Island, which inspires the man to plot his escape.\",\n",
              " 'San Francisco private detective Sam Spade takes on a case that involves him with three eccentric criminals, a gorgeous liar, and their quest for a priceless statuette, with the stakes rising after his partner is murdered.',\n",
              " 'A sole survivor tells of the twisty events leading up to a horrific gun battle on a boat, which began when five criminals met at a seemingly random police lineup.',\n",
              " 'In 1997 Rio de Janeiro, Captain Nascimento has to find a substitute for his position while trying to take down drug dealers and criminals before the Pope visits.',\n",
              " 'Shot documentary-style, this film follows the daily grind of two young police officers in LA who are partners and friends, and what happens when they meet criminal forces greater than themselves.',\n",
              " 'When a simple jewelry heist goes horribly wrong, the surviving criminals begin to suspect that one of them is a police informant.',\n",
              " 'Two slackers competing for the affections of an heiress inadvertently become her protectors from an evil criminal.',\n",
              " 'A criminal pleads insanity and is admitted to a mental institution, where he rebels against the oppressive nurse and rallies up the scared patients.',\n",
              " \"A police detective, a bank robber, and a high-power broker enter high-stakes negotiations after the criminal's brilliant heist spirals into a hostage situation.\",\n",
              " \"Two Irish Catholic brothers become vigilantes and wipe out Boston's criminal underworld in the name of God.\",\n",
              " 'A group of intergalactic criminals must pull together to stop a fanatical warrior with plans to purge the universe.',\n",
              " 'A crafty ronin comes to a town divided by two criminal gangs and decides to play them against each other to free the town.']"
            ]
          },
          "execution_count": 45,
          "metadata": {},
          "output_type": "execute_result"
        }
      ],
      "source": [
        "retrieve_relevant_text('criminal')"
      ]
    },
    {
      "cell_type": "markdown",
      "metadata": {
        "id": "0w-iKiiujwW-"
      },
      "source": [
        "Retrive text using liklihood language model:"
      ]
    },
    {
      "cell_type": "code",
      "execution_count": 46,
      "metadata": {
        "id": "uKIAwXdbjrXJ"
      },
      "outputs": [],
      "source": [
        "def retrieve_relevant_text_using_likelihood_language_model(query):\n",
        "    # handle wildcard and phase queries\n",
        "    docs = search(query)\n",
        "    # get the relevant text\n",
        "    relevant_text = []\n",
        "    for doc in docs:\n",
        "        relevant_text.append(df.loc[df['id'] == doc]['Description'].values[0])\n",
        "    return relevant_text"
      ]
    },
    {
      "cell_type": "code",
      "execution_count": 47,
      "metadata": {
        "colab": {
          "base_uri": "https://localhost:8080/"
        },
        "id": "ls0FjWR1j7D3",
        "outputId": "b8b8508d-6c01-499b-f2b7-43e85a79f3f9"
      },
      "outputs": [
        {
          "data": {
            "text/plain": [
              "['When the menace known as the Joker wreaks havoc and chaos on the people of Gotham, Batman must accept one of the greatest psychological and physical tests of his ability to fight injustice.',\n",
              " 'An insomniac office worker and a devil-may-care soap maker form an underground fight club that evolves into much more.',\n",
              " \"A man's coerced confession to an I.R.A. bombing he did not commit results in the imprisonment of his father as well. An English lawyer fights to free them.\",\n",
              " \"In a Russian coastal town, Kolya is forced to fight the corrupt mayor when he is told that his house will be demolished. He recruits a lawyer friend to help, but the man's arrival brings further misfortune for Kolya and his family.\",\n",
              " 'A teenage boy expelled from school for fighting arrives at a boarding school where the systematic bullying of younger students is encouraged as a means to maintain discipline, and decides to fight back.',\n",
              " 'After training with his mentor, Batman begins his fight to free crime-ridden Gotham City from corruption.',\n",
              " 'A small-time Philadelphia boxer gets a supremely rare chance to fight the world heavyweight champion in a bout in which he strives to go the distance for his self-respect.',\n",
              " 'In the 1950s, fear and violence escalate as the people of Algiers fight for independence from the French government.',\n",
              " 'King Leonidas of Sparta and a force of 300 men fight the Persians at Thermopylae in 480 B.C.',\n",
              " 'A mentally handicapped man fights for custody of his 7-year-old daughter and in the process teaches his cold-hearted lawyer the value of love and family.',\n",
              " \"When Prince John and the Norman Lords begin oppressing the Saxon masses in King Richard's absence in 1190s England, a Saxon lord fights back as the outlaw leader of a resistance movement.\",\n",
              " 'After surviving a heart-attack, a 59-year-old carpenter must fight bureaucratic forces to receive Employment and Support Allowance.',\n",
              " 'A frontiersman on a fur trading expedition in the 1820s fights for survival after being mauled by a bear and left for dead by members of his own hunting team.',\n",
              " 'Unscrupulous boxing promoters, violent bookmakers, a Russian gangster, incompetent amateur robbers and supposedly Jewish jewelers fight to track down a priceless stolen diamond.',\n",
              " \"Earth's mightiest heroes must come together and learn to fight as a team if they are going to stop the mischievous Loki and his alien army from enslaving humanity.\",\n",
              " 'Munna Bhai embarks on a journey with Mahatma Gandhi in order to fight against a corrupt property dealer.',\n",
              " 'When two brothers are forced to fight in the Korean War, the elder decides to take the riskiest missions if it will help shield the younger from battle.',\n",
              " 'The story of T.E. Lawrence, the English officer who successfully united and led the diverse, often warring, Arab tribes during World War I in order to fight the Turks.',\n",
              " 'After being held captive in an Afghan cave, billionaire engineer Tony Stark creates a unique weaponized suit of armor to fight evil.']"
            ]
          },
          "execution_count": 47,
          "metadata": {},
          "output_type": "execute_result"
        }
      ],
      "source": [
        "retrieve_relevant_text_using_likelihood_language_model('fight')"
      ]
    },
    {
      "cell_type": "markdown",
      "metadata": {
        "id": "nrTt4T7xkBaD"
      },
      "source": [
        "Ranking the retrived documents:"
      ]
    },
    {
      "cell_type": "code",
      "execution_count": 48,
      "metadata": {
        "id": "7bhySLxVkAwW"
      },
      "outputs": [],
      "source": [
        "def rank_retrieved_documents(query):\n",
        "    # handle wildcard and phase queries\n",
        "    docs = search(query)\n",
        "    # get the relevant text\n",
        "    relevant_text = []\n",
        "    for doc in docs:\n",
        "        relevant_text.append(df.loc[df['id'] == doc]['Description'].values[0])\n",
        "    # calculate the score for each document\n",
        "    scores = {}\n",
        "    for doc in relevant_text:\n",
        "        scores[doc] = 0\n",
        "        for word in query.split():\n",
        "            scores[doc] += doc.count(word)\n",
        "    # sort the documents based on the score\n",
        "    sorted_scores = sorted(scores.items(), key=lambda x: x[1], reverse=True)\n",
        "    return sorted_scores"
      ]
    },
    {
      "cell_type": "markdown",
      "metadata": {
        "id": "QERq-pJDkSzP"
      },
      "source": [
        "get rank for the word \"criminal\""
      ]
    },
    {
      "cell_type": "code",
      "execution_count": 49,
      "metadata": {
        "colab": {
          "base_uri": "https://localhost:8080/"
        },
        "id": "uiHjALimkQ6b",
        "outputId": "8dfaccad-bb03-4edd-e165-58e5acb35d2a"
      },
      "outputs": [
        {
          "data": {
            "text/plain": [
              "[('Two ex-cons murder a family in a robbery attempt, before going on the run from the authorities. The police try to piece together the details of the murder in an attempt to track down the killers.',\n",
              "  2),\n",
              " ('In a future where a special police unit is able to arrest murderers before they commit their crimes, an officer from that unit is himself accused of a future murder.',\n",
              "  2),\n",
              " ('A Los Angeles insurance representative lets an alluring housewife seduce him into a scheme of insurance fraud and murder that arouses the suspicion of his colleague, an insurance investigator.',\n",
              "  1),\n",
              " ('A small-time thief steals a car and impulsively murders a motorcycle policeman. Wanted by the authorities, he reunites with a hip American journalism student and attempts to persuade her to run away with him to Italy.',\n",
              "  1),\n",
              " ('The jury in a New York City murder trial is frustrated by a single member whose skeptical caution forces them to more carefully consider the evidence before jumping to a hasty verdict.',\n",
              "  1),\n",
              " ('Karl Childers, a simple man hospitalized since his childhood murder of his mother and her lover, is released to start a new life in a small town.',\n",
              "  1),\n",
              " ('A skilled London police officer, after irritating superiors with his embarrassing effectiveness, is transferred to a village where the easygoing officers object to his fervor for regulations, as a string of grisly murders strikes the town.',\n",
              "  1),\n",
              " ('The lives of guards on Death Row are affected by one of their charges: a black man accused of child murder and rape, yet who has a mysterious gift.',\n",
              "  1),\n",
              " ('A story of love between a mentally-ill father who was wrongly accused of murder and his lovely six year old daughter. Prison will be their home. Based on the 2013 Korean movie Miracle in Cell No. 7 (2013).',\n",
              "  1),\n",
              " ('As corruption grows in 1950s Los Angeles, three policemen - one strait-laced, one brutal, and one sleazy - investigate a series of murders with their own brand of justice.',\n",
              "  1),\n",
              " ('Batman is wrongly implicated in a series of murders of mob bosses actually done by a new vigilante assassin.',\n",
              "  1),\n",
              " ('A tale of greed, deception, money, power, and murder occur between two best friends: a mafia enforcer and a casino executive compete against each other over a gambling empire, and over a fast-living and fast-loving socialite.',\n",
              "  1),\n",
              " ('A black Philadelphia police detective is mistakenly suspected of a local murder while passing through a racially hostile Mississippi town, and after being cleared is reluctantly asked by the police chief to investigate the case.',\n",
              "  1),\n",
              " (\"A mob enforcer's son in 1930s Illinois witnesses a murder, forcing him and his father to take to the road, and his father down a path of redemption and revenge.\",\n",
              "  1),\n",
              " ('In 1985 where former superheroes exist, the murder of a colleague sends active vigilante Rorschach into his own sprawling investigation, uncovering something that could completely change the course of history as we know it.',\n",
              "  1),\n",
              " ('A wheelchair-bound photographer spies on his neighbors from his Greenwich Village courtyard apartment window, and becomes convinced one of them has committed murder, despite the skepticism of his fashion-model girlfriend.',\n",
              "  1),\n",
              " ('A self-assured businessman murders his employer, the husband of his mistress, which unintentionally provokes an ill-fated chain of events.',\n",
              "  1),\n",
              " ('A private detective hired to expose an adulterer in 1930s Los Angeles finds himself caught up in a web of deceit, corruption, and murder.',\n",
              "  1),\n",
              " ('The public murder of a prominent politician and doctor amid a violent demonstration is covered up by military and government officials. A tenacious magistrate is determined not to let them get away with it.',\n",
              "  1),\n",
              " ('A psychopath forces a tennis star to comply with his theory that two strangers can get away with murder.',\n",
              "  1),\n",
              " ('A stark, perverse story of murder, kidnapping, and police corruption in a Mexican border town.',\n",
              "  1),\n",
              " ('The wife and mistress of a loathed school principal plan to murder him with what they believe is the perfect alibi.',\n",
              "  1),\n",
              " ('A potentially violent screenwriter is a murder suspect until his lovely neighbor clears him. However, she soon starts to have her doubts.',\n",
              "  1),\n",
              " ('A former tennis star arranges the murder of his adulterous wife.', 1),\n",
              " (\"Private detective Philip Marlowe is hired by a wealthy family. Before the complex case is over, he's seen murder, blackmail, and what might be love.\",\n",
              "  1),\n",
              " (\"The rape of a bride and the murder of her samurai husband are recalled from the perspectives of a bandit, the bride, the samurai's ghost and a woodcutter.\",\n",
              "  1),\n",
              " ('A police detective falls in love with the woman whose murder he is investigating.',\n",
              "  1),\n",
              " ('Former detective Nick Charles and his wealthy wife Nora investigate a murder case, mostly for the fun of it.',\n",
              "  1),\n",
              " ('A sophisticated urban woman seduces a farmer in the hopes that he will murder his neglected wife and join her in the city, but he soon finds himself rekindling his romance with the latter when she discovers their scheme.',\n",
              "  1),\n",
              " ('Hypnotist Dr. Caligari uses a somnambulist, Cesare, to commit murders.', 1),\n",
              " ('Two New Yorkers accused of murder in rural Alabama while on their way back to college call in the help of one of their cousins, a loudmouth lawyer with no trial experience.',\n",
              "  1),\n",
              " (\"A mother personally challenges the local authorities to solve her daughter's murder when they fail to catch the culprit.\",\n",
              "  1),\n",
              " ('A successful entrepreneur accused of murder and a witness preparation expert have less than three hours to come up with an impregnable defense.',\n",
              "  1),\n",
              " ('Military lawyer Lieutenant Daniel Kaffee defends Marines accused of murder. They contend they were acting under orders.',\n",
              "  1),\n",
              " ('A veteran British barrister must defend his client in a murder trial that has surprise after surprise.',\n",
              "  1),\n",
              " ('A sub-inspector sets out in pursuit of a mysterious serial killer who targets teen school girls and murders them brutally.',\n",
              "  1),\n",
              " (\"A toon-hating detective is a cartoon rabbit's only hope to prove his innocence when he is accused of murder.\",\n",
              "  1),\n",
              " ('A veteran hunter helps an FBI agent investigate the murder of a young woman on a Wyoming Native American reservation.',\n",
              "  1),\n",
              " (\"A mother desperately searches for the killer who framed her son for a girl's horrific murder.\",\n",
              "  1)]"
            ]
          },
          "execution_count": 49,
          "metadata": {},
          "output_type": "execute_result"
        }
      ],
      "source": [
        "rank_retrieved_documents('murder')"
      ]
    },
    {
      "cell_type": "markdown",
      "metadata": {
        "id": "ugFHTzl5klGZ"
      },
      "source": [
        "defining the function to sort the documents based on the score of each document:"
      ]
    },
    {
      "cell_type": "code",
      "execution_count": 50,
      "metadata": {
        "id": "gpxz-HKZkdMw"
      },
      "outputs": [],
      "source": [
        "def advanced_search(query):\n",
        "    # get the relevant text\n",
        "    relevant_text = retrieve_relevant_text(query)\n",
        "    # calculate the score for each document\n",
        "    scores = {}\n",
        "    for doc in relevant_text:\n",
        "        scores[doc] = 0\n",
        "        for word in query.split():\n",
        "            scores[doc] += doc.count(word)\n",
        "    # sort the documents based on the score\n",
        "    sorted_scores = sorted(scores.items(), key=lambda x: x[1], reverse=True)\n",
        "    return sorted_scores"
      ]
    },
    {
      "cell_type": "code",
      "execution_count": 51,
      "metadata": {
        "colab": {
          "base_uri": "https://localhost:8080/"
        },
        "id": "y5FkFnw-kkog",
        "outputId": "fd85ca74-0a38-4ea3-fb3a-baa8fb31bc7c"
      },
      "outputs": [
        {
          "data": {
            "text/plain": [
              "[('A teenage boy expelled from school for fighting arrives at a boarding school where the systematic bullying of younger students is encouraged as a means to maintain discipline, and decides to fight back.',\n",
              "  2),\n",
              " ('When the menace known as the Joker wreaks havoc and chaos on the people of Gotham, Batman must accept one of the greatest psychological and physical tests of his ability to fight injustice.',\n",
              "  1),\n",
              " ('An insomniac office worker and a devil-may-care soap maker form an underground fight club that evolves into much more.',\n",
              "  1),\n",
              " (\"A man's coerced confession to an I.R.A. bombing he did not commit results in the imprisonment of his father as well. An English lawyer fights to free them.\",\n",
              "  1),\n",
              " (\"In a Russian coastal town, Kolya is forced to fight the corrupt mayor when he is told that his house will be demolished. He recruits a lawyer friend to help, but the man's arrival brings further misfortune for Kolya and his family.\",\n",
              "  1),\n",
              " ('After training with his mentor, Batman begins his fight to free crime-ridden Gotham City from corruption.',\n",
              "  1),\n",
              " ('A small-time Philadelphia boxer gets a supremely rare chance to fight the world heavyweight champion in a bout in which he strives to go the distance for his self-respect.',\n",
              "  1),\n",
              " ('In the 1950s, fear and violence escalate as the people of Algiers fight for independence from the French government.',\n",
              "  1),\n",
              " ('King Leonidas of Sparta and a force of 300 men fight the Persians at Thermopylae in 480 B.C.',\n",
              "  1),\n",
              " ('A mentally handicapped man fights for custody of his 7-year-old daughter and in the process teaches his cold-hearted lawyer the value of love and family.',\n",
              "  1),\n",
              " (\"When Prince John and the Norman Lords begin oppressing the Saxon masses in King Richard's absence in 1190s England, a Saxon lord fights back as the outlaw leader of a resistance movement.\",\n",
              "  1),\n",
              " ('After surviving a heart-attack, a 59-year-old carpenter must fight bureaucratic forces to receive Employment and Support Allowance.',\n",
              "  1),\n",
              " ('A frontiersman on a fur trading expedition in the 1820s fights for survival after being mauled by a bear and left for dead by members of his own hunting team.',\n",
              "  1),\n",
              " ('Unscrupulous boxing promoters, violent bookmakers, a Russian gangster, incompetent amateur robbers and supposedly Jewish jewelers fight to track down a priceless stolen diamond.',\n",
              "  1),\n",
              " (\"Earth's mightiest heroes must come together and learn to fight as a team if they are going to stop the mischievous Loki and his alien army from enslaving humanity.\",\n",
              "  1),\n",
              " ('Munna Bhai embarks on a journey with Mahatma Gandhi in order to fight against a corrupt property dealer.',\n",
              "  1),\n",
              " ('When two brothers are forced to fight in the Korean War, the elder decides to take the riskiest missions if it will help shield the younger from battle.',\n",
              "  1),\n",
              " ('The story of T.E. Lawrence, the English officer who successfully united and led the diverse, often warring, Arab tribes during World War I in order to fight the Turks.',\n",
              "  1),\n",
              " ('After being held captive in an Afghan cave, billionaire engineer Tony Stark creates a unique weaponized suit of armor to fight evil.',\n",
              "  1)]"
            ]
          },
          "execution_count": 51,
          "metadata": {},
          "output_type": "execute_result"
        }
      ],
      "source": [
        "advanced_search('fight')"
      ]
    },
    {
      "cell_type": "markdown",
      "metadata": {
        "id": "7qO2t1DVk6xl"
      },
      "source": [
        "reranking the documents and sorting the documents based on the ID's"
      ]
    },
    {
      "cell_type": "code",
      "execution_count": 52,
      "metadata": {
        "id": "-ewJYruPkzf6"
      },
      "outputs": [],
      "source": [
        "def rerank_results(query):\n",
        "    index = inverted_index\n",
        "    documents = search(query)\n",
        "    # Create a list to store document scores\n",
        "    scores = []\n",
        "    # Split the query into individual terms\n",
        "    query_terms = query.split()\n",
        "    # Iterate over each document\n",
        "    for doc_id in documents:\n",
        "        # Initialize the score for this document\n",
        "        score = 0\n",
        "        # Iterate over each query term\n",
        "        for term in query_terms:\n",
        "            # If the term appears in the document\n",
        "            if term in index and doc_id in index[term]:\n",
        "                # Increment the score by the frequency of the term in the document\n",
        "                try:\n",
        "                    score += index[term][doc_id]\n",
        "                except:\n",
        "                    pass\n",
        "        # Add the document score to the list of scores\n",
        "        scores.append((doc_id, score))\n",
        "    # Sort the list of scores in descending order\n",
        "    scores.sort(key=lambda x: x[1], reverse=True)\n",
        "    # Return the sorted list of document IDs\n",
        "    return [doc_id for doc_id, score in scores]"
      ]
    },
    {
      "cell_type": "code",
      "execution_count": 53,
      "metadata": {
        "colab": {
          "base_uri": "https://localhost:8080/"
        },
        "id": "pSP3SxuZk58M",
        "outputId": "e291f61a-d8bf-4c6f-f91c-ca04f681d33d"
      },
      "outputs": [
        {
          "data": {
            "text/plain": [
              "[11,\n",
              " 2,\n",
              " 276,\n",
              " 920,\n",
              " 803,\n",
              " 164,\n",
              " 294,\n",
              " 306,\n",
              " 947,\n",
              " 958,\n",
              " 588,\n",
              " 597,\n",
              " 354,\n",
              " 108,\n",
              " 367,\n",
              " 369,\n",
              " 376,\n",
              " 122,\n",
              " 509]"
            ]
          },
          "execution_count": 53,
          "metadata": {},
          "output_type": "execute_result"
        }
      ],
      "source": [
        "rerank_results('fight')"
      ]
    },
    {
      "cell_type": "markdown",
      "metadata": {
        "id": "qQ34LjEwlYqH"
      },
      "source": [
        "Semantic matching:"
      ]
    },
    {
      "cell_type": "code",
      "execution_count": 54,
      "metadata": {
        "id": "IcNNdUFelRcD"
      },
      "outputs": [],
      "source": [
        "from nltk.corpus import wordnet as wn\n",
        "from nltk.tokenize import word_tokenize\n",
        "\n",
        "# define a function to calculate semantic similarity between two words using WordNet\n",
        "def calculate_similarity(word1, word2):\n",
        "    synsets1 = wn.synsets(word1)\n",
        "    synsets2 = wn.synsets(word2)\n",
        "    if not synsets1 or not synsets2:\n",
        "        return 0.0\n",
        "    max_sim = -1\n",
        "    for synset1 in synsets1:\n",
        "        for synset2 in synsets2:\n",
        "            sim = wn.path_similarity(synset1, synset2)\n",
        "            if sim is not None and sim > max_sim:\n",
        "                max_sim = sim\n",
        "    return max_sim\n",
        "\n",
        "# define a function to perform semantic matching of a query against a document\n",
        "def semantic_matching(query):\n",
        "    documents = inverted_index\n",
        "\n",
        "    scores = []\n",
        "\n",
        "    query_tokens = word_tokenize(query)\n",
        "\n",
        "    for document in documents:\n",
        "        doc_tokens = word_tokenize(document)\n",
        "        similarity_score = 0.0\n",
        "        for query_token in query_tokens:\n",
        "            max_sim = -1\n",
        "            for doc_token in doc_tokens:\n",
        "                sim = calculate_similarity(query_token, doc_token)\n",
        "                if sim > max_sim:\n",
        "                    max_sim = sim\n",
        "            similarity_score += max_sim\n",
        "        scores.append((document, similarity_score / len(query_tokens)))\n",
        "    return scores"
      ]
    },
    {
      "cell_type": "code",
      "execution_count": 55,
      "metadata": {
        "colab": {
          "base_uri": "https://localhost:8080/"
        },
        "id": "Kxeemx-7lf7P",
        "outputId": "f98db429-48bf-4302-aa55-e02b237991fb"
      },
      "outputs": [
        {
          "data": {
            "text/plain": [
              "[('Two', 0.23148148148148148),\n",
              " ('imprisoned', 0.22777777777777777),\n",
              " ('men', 0.11574074074074074),\n",
              " ('bond', 0.15925925925925924),\n",
              " ('number', 0.20555555555555557),\n",
              " ('years', 0.11574074074074074),\n",
              " ('finding', 0.22777777777777777),\n",
              " ('solace', 0.22777777777777777),\n",
              " ('eventual', 0.22777777777777777),\n",
              " ('redemption', 0.08927738927738928),\n",
              " ('acts', 0.22777777777777777),\n",
              " ('common', 0.22777777777777777),\n",
              " ('decency', 0.09814814814814814),\n",
              " ('The', 0.0),\n",
              " ('aging', 0.22777777777777777),\n",
              " ('patriarch', 0.08927738927738928),\n",
              " ('organized', 0.22777777777777777),\n",
              " ('crime', 0.08189033189033189),\n",
              " ('dynasty', 0.08189033189033189),\n",
              " ('postwar', 0.22777777777777777),\n",
              " ('New', 0.22777777777777777),\n",
              " ('York', 0.07564102564102564),\n",
              " ('City', 0.09814814814814814),\n",
              " ('transfers', 0.22777777777777777),\n",
              " ('control', 0.23148148148148148),\n",
              " ('clandestine', 0.22777777777777777),\n",
              " ('empire', 0.09601139601139601),\n",
              " ('reluctant', 0.22777777777777777),\n",
              " ('youngest', 0.22777777777777777),\n",
              " ('son', 0.08927738927738928),\n",
              " ('When', 0.0),\n",
              " ('menace', 0.18030303030303033),\n",
              " ('known', 0.22777777777777777),\n",
              " ('Joker', 0.09696969696969697),\n",
              " ('wreaks', 0.18030303030303033),\n",
              " ('havoc', 0.08703703703703702),\n",
              " ('chaos', 0.09814814814814814),\n",
              " ('people', 0.15925925925925924),\n",
              " ('Gotham', 0.0),\n",
              " ('Batman', 0.08189033189033189),\n",
              " ('must', 0.23148148148148148),\n",
              " ('accept', 0.22777777777777777),\n",
              " ('one', 0.23148148148148148),\n",
              " ('greatest', 0.22777777777777777),\n",
              " ('psychological', 0.22777777777777777),\n",
              " ('physical', 0.22777777777777777),\n",
              " ('tests', 0.18030303030303033),\n",
              " ('ability', 0.12261904761904763),\n",
              " ('fight', 0.22777777777777777),\n",
              " ('injustice', 0.09814814814814814),\n",
              " ('Gandalf', 0.0),\n",
              " ('Aragorn', 0.0),\n",
              " ('lead', 0.23611111111111108),\n",
              " ('World', 0.23148148148148148),\n",
              " ('Men', 0.11574074074074074),\n",
              " ('Sauron', 0.0),\n",
              " (\"'s\", 0.0),\n",
              " ('army', 0.09814814814814814),\n",
              " ('draw', 0.25555555555555554),\n",
              " ('gaze', 0.18030303030303033),\n",
              " ('Frodo', 0.0),\n",
              " ('Sam', 0.06455026455026454),\n",
              " ('approach', 0.18030303030303033),\n",
              " ('Mount', 0.18030303030303033),\n",
              " ('Doom', 0.18030303030303033),\n",
              " ('One', 0.23148148148148148),\n",
              " ('Ring', 0.18030303030303033),\n",
              " ('In', 0.27777777777777773),\n",
              " ('German-occupied', 0.0),\n",
              " ('Poland', 0.07425213675213675),\n",
              " ('War', 0.18030303030303033),\n",
              " ('II', 0.23148148148148148),\n",
              " ('industrialist', 0.08189033189033189),\n",
              " ('Oskar', 0.0),\n",
              " ('Schindler', 0.0),\n",
              " ('gradually', 0.22777777777777777),\n",
              " ('becomes', 0.22777777777777777),\n",
              " ('concerned', 0.22777777777777777),\n",
              " ('Jewish', 0.22777777777777777),\n",
              " ('workforce', 0.09814814814814814),\n",
              " ('witnessing', 0.18030303030303033),\n",
              " ('persecution', 0.07564102564102564),\n",
              " ('Nazis', 0.09814814814814814),\n",
              " ('early', 0.22777777777777777),\n",
              " ('life', 0.1263227513227513),\n",
              " ('career', 0.18030303030303033),\n",
              " ('Vito', 0.0),\n",
              " ('Corleone', 0.0),\n",
              " ('1920s', 0.1037037037037037),\n",
              " ('portrayed', 0.22777777777777777),\n",
              " ('Michael', 0.07564102564102564),\n",
              " ('expands', 0.18030303030303033),\n",
              " ('tightens', 0.18030303030303033),\n",
              " ('grip', 0.15),\n",
              " ('family', 0.12261904761904763),\n",
              " ('syndicate', 0.18030303030303033),\n",
              " ('jury', 0.109006734006734),\n",
              " ('murder', 0.44696969696969696),\n",
              " ('trial', 0.09814814814814814),\n",
              " ('frustrated', 0.22777777777777777),\n",
              " ('single', 0.23148148148148148),\n",
              " ('member', 0.13095238095238096),\n",
              " ('whose', 0.0),\n",
              " ('skeptical', 0.22777777777777777),\n",
              " ('caution', 0.109006734006734),\n",
              " ('forces', 0.18333333333333335),\n",
              " ('carefully', 0.22777777777777777),\n",
              " ('consider', 0.22777777777777777),\n",
              " ('evidence', 0.1263227513227513),\n",
              " ('jumping', 0.22777777777777777),\n",
              " ('hasty', 0.22777777777777777),\n",
              " ('verdict', 0.08189033189033189),\n",
              " ('tribal', 0.22777777777777777),\n",
              " ('man', 0.18703703703703703),\n",
              " ('arrested', 0.18030303030303033),\n",
              " ('case', 0.18888888888888888),\n",
              " ('alleged', 0.22777777777777777),\n",
              " ('theft', 0.07028388278388278),\n",
              " ('wife', 0.08927738927738928),\n",
              " ('turns', 0.18030303030303033),\n",
              " ('human-rights', 0.0),\n",
              " ('lawyer', 0.08927738927738928),\n",
              " ('help', 0.18030303030303033),\n",
              " ('bring', 0.22777777777777777),\n",
              " ('justice', 0.09814814814814814),\n",
              " ('lives', 0.4537037037037037),\n",
              " ('two', 0.23148148148148148),\n",
              " ('mob', 0.11958874458874458),\n",
              " ('hitmen', 0.08927738927738928),\n",
              " ('boxer', 0.09814814814814814),\n",
              " ('gangster', 0.07564102564102564),\n",
              " ('pair', 0.15555555555555556),\n",
              " ('diner', 0.08189033189033189),\n",
              " ('bandits', 0.07028388278388278),\n",
              " ('intertwine', 0.15),\n",
              " ('four', 0.23148148148148148),\n",
              " ('tales', 0.1263227513227513),\n",
              " ('violence', 0.10185185185185185),\n",
              " ('A', 0.396969696969697),\n",
              " ('thief', 0.07564102564102564),\n",
              " ('steals', 0.18030303030303033),\n",
              " ('corporate', 0.22777777777777777),\n",
              " ('secrets', 0.11203703703703705),\n",
              " ('use', 0.22777777777777777),\n",
              " ('dream-sharing', 0.0),\n",
              " ('technology', 0.08927738927738928),\n",
              " ('given', 0.22777777777777777),\n",
              " ('inverse', 0.22777777777777777),\n",
              " ('task', 0.15),\n",
              " ('planting', 0.15555555555555556),\n",
              " ('idea', 0.109006734006734),\n",
              " ('mind', 0.18333333333333335),\n",
              " ('C.E.O.', 0.0),\n",
              " ('tragic', 0.22777777777777777),\n",
              " ('past', 0.23148148148148148),\n",
              " ('may', 0.09393939393939395),\n",
              " ('doom', 0.18030303030303033),\n",
              " ('project', 0.22777777777777777),\n",
              " ('team', 0.11958874458874458),\n",
              " ('disaster', 0.11452991452991453),\n",
              " ('While', 0.1037037037037037),\n",
              " ('edge', 0.18030303030303033),\n",
              " ('closer', 0.22777777777777777),\n",
              " ('Mordor', 0.0),\n",
              " ('shifty', 0.22777777777777777),\n",
              " ('Gollum', 0.0),\n",
              " ('divided', 0.22777777777777777),\n",
              " ('fellowship', 0.09814814814814814),\n",
              " ('makes', 0.22777777777777777),\n",
              " ('stand', 0.18030303030303033),\n",
              " ('new', 0.22777777777777777),\n",
              " ('ally', 0.1288156288156288),\n",
              " ('Saruman', 0.0),\n",
              " ('hordes', 0.09814814814814814),\n",
              " ('Isengard', 0.0),\n",
              " ('An', 0.09511784511784512),\n",
              " ('insomniac', 0.22777777777777777),\n",
              " ('office', 0.12261904761904763),\n",
              " ('worker', 0.109006734006734),\n",
              " ('devil-may-care', 0.22777777777777777),\n",
              " ('soap', 0.1263227513227513),\n",
              " ('maker', 0.09814814814814814),\n",
              " ('form', 0.18703703703703703),\n",
              " ('underground', 0.22777777777777777),\n",
              " ('club', 0.18333333333333335),\n",
              " ('evolves', 0.18030303030303033),\n",
              " ('much', 0.23148148148148148),\n",
              " ('meek', 0.22777777777777777),\n",
              " ('Hobbit', 0.08189033189033189),\n",
              " ('Shire', 0.08744588744588744),\n",
              " ('eight', 0.23148148148148148),\n",
              " ('companions', 0.13095238095238096),\n",
              " ('set', 0.23611111111111108),\n",
              " ('journey', 0.18030303030303033),\n",
              " ('destroy', 0.25555555555555554),\n",
              " ('powerful', 0.22777777777777777),\n",
              " ('save', 0.22777777777777777),\n",
              " ('Middle-earth', 0.0),\n",
              " ('Dark', 0.23148148148148148),\n",
              " ('Lord', 0.11706349206349205),\n",
              " ('presidencies', 0.09393939393939395),\n",
              " ('Kennedy', 0.0803030303030303),\n",
              " ('Johnson', 0.08927738927738928),\n",
              " ('Vietnam', 0.08927738927738928),\n",
              " ('Watergate', 0.08927738927738928),\n",
              " ('scandal', 0.09814814814814814),\n",
              " ('historical', 0.22777777777777777),\n",
              " ('events', 0.1402116402116402),\n",
              " ('unfold', 0.15),\n",
              " ('perspective', 0.109006734006734),\n",
              " ('Alabama', 0.09814814814814814),\n",
              " ('IQ', 0.109006734006734),\n",
              " ('75', 0.22777777777777777),\n",
              " ('desire', 0.22777777777777777),\n",
              " ('reunited', 0.18030303030303033),\n",
              " ('childhood', 0.11203703703703705),\n",
              " ('sweetheart', 0.22777777777777777),\n",
              " ('bounty', 0.08189033189033189),\n",
              " ('hunting', 0.18030303030303033),\n",
              " ('scam', 0.09120370370370372),\n",
              " ('joins', 0.22777777777777777),\n",
              " ('uneasy', 0.22777777777777777),\n",
              " ('alliance', 0.12261904761904763),\n",
              " ('third', 0.22777777777777777),\n",
              " ('race', 0.18703703703703703),\n",
              " ('find', 0.22777777777777777),\n",
              " ('fortune', 0.11958874458874458),\n",
              " ('gold', 0.22777777777777777),\n",
              " ('buried', 0.22777777777777777),\n",
              " ('remote', 0.22777777777777777),\n",
              " ('cemetery', 0.0803030303030303),\n",
              " ('Nedumaaran', 0.0),\n",
              " ('Rajangam', 0.0),\n",
              " ('``', 0.0),\n",
              " ('Maara', 0.0),\n",
              " (\"''\", 0.0),\n",
              " ('sets', 0.23611111111111108),\n",
              " ('make', 0.22777777777777777),\n",
              " ('fly', 0.22777777777777777),\n",
              " ('process', 0.15925925925925924),\n",
              " ('takes', 0.22777777777777777),\n",
              " ('world', 0.23148148148148148),\n",
              " ('capital', 0.27777777777777773),\n",
              " ('intensive', 0.22777777777777777),\n",
              " ('industry', 0.09814814814814814),\n",
              " ('several', 0.22777777777777777),\n",
              " ('enemies', 0.12261904761904763),\n",
              " ('way', 0.22777777777777777),\n",
              " ('beautiful', 0.22777777777777777),\n",
              " ('stranger', 0.22777777777777777),\n",
              " ('leads', 0.23611111111111108),\n",
              " ('computer', 0.09814814814814814),\n",
              " ('hacker', 0.09814814814814814),\n",
              " ('Neo', 0.22777777777777777),\n",
              " ('forbidding', 0.22777777777777777),\n",
              " ('underworld', 0.109006734006734),\n",
              " ('discovers', 0.22777777777777777),\n",
              " ('shocking', 0.22777777777777777),\n",
              " ('truth', 0.12261904761904763),\n",
              " ('--', 0.0),\n",
              " ('knows', 0.22777777777777777),\n",
              " ('elaborate', 0.22777777777777777),\n",
              " ('deception', 0.10067340067340068),\n",
              " ('evil', 0.22777777777777777),\n",
              " ('cyber-intelligence', 0.0),\n",
              " ('story', 0.1263227513227513),\n",
              " ('Henry', 0.13030303030303034),\n",
              " ('Hill', 0.13095238095238096),\n",
              " ('covering', 0.22777777777777777),\n",
              " ('relationship', 0.1402116402116402),\n",
              " ('Karen', 0.09141414141414143),\n",
              " ('partners', 0.18030303030303033),\n",
              " ('Jimmy', 0.18030303030303033),\n",
              " ('Conway', 0.0),\n",
              " ('Tommy', 0.0),\n",
              " ('DeVito', 0.0),\n",
              " ('Italian-American', 0.0),\n",
              " ('After', 0.22777777777777777),\n",
              " ('Rebels', 0.08927738927738928),\n",
              " ('brutally', 0.22777777777777777),\n",
              " ('overpowered', 0.16666666666666666),\n",
              " ('Empire', 0.09601139601139601),\n",
              " ('ice', 0.19166666666666665),\n",
              " ('planet', 0.09814814814814814),\n",
              " ('Hoth', 0.07564102564102564),\n",
              " ('Luke', 0.09141414141414143),\n",
              " ('Skywalker', 0.0),\n",
              " ('begins', 0.22777777777777777),\n",
              " ('Jedi', 0.0),\n",
              " ('training', 0.18030303030303033),\n",
              " ('Yoda', 0.0),\n",
              " ('friends', 0.109006734006734),\n",
              " ('pursued', 0.22777777777777777),\n",
              " ('across', 0.22777777777777777),\n",
              " ('galaxy', 0.12261904761904763),\n",
              " ('Darth', 0.0),\n",
              " ('Vader', 0.0),\n",
              " ('hunter', 0.09814814814814814),\n",
              " ('Boba', 0.0),\n",
              " ('Fett', 0.0),\n",
              " ('criminal', 0.22777777777777777),\n",
              " ('pleads', 0.1288156288156288),\n",
              " ('insanity', 0.08927738927738928),\n",
              " ('admitted', 0.22777777777777777),\n",
              " ('mental', 0.22777777777777777),\n",
              " ('institution', 0.11958874458874458),\n",
              " ('rebels', 0.08927738927738928),\n",
              " ('oppressive', 0.22777777777777777),\n",
              " ('nurse', 0.18030303030303033),\n",
              " ('rallies', 0.18030303030303033),\n",
              " ('scared', 0.22777777777777777),\n",
              " ('patients', 0.09814814814814814),\n",
              " ('high-octane', 0.22777777777777777),\n",
              " ('action', 0.1365079365079365),\n",
              " ('film', 0.1365079365079365),\n",
              " ('special', 0.25),\n",
              " ('investigator', 0.09814814814814814),\n",
              " ('assigned', 0.22777777777777777),\n",
              " ('serial', 0.22777777777777777),\n",
              " ('Killings', 0.3111111111111111),\n",
              " ('finds', 0.22777777777777777),\n",
              " ('seems', 0.18030303030303033),\n",
              " ('leading', 0.22777777777777777),\n",
              " ('path', 0.10648148148148147),\n",
              " ('going', 0.45),\n",
              " ('end', 0.23611111111111108),\n",
              " ('war', 0.18030303030303033),\n",
              " ('everyone', 0.0),\n",
              " ('involved', 0.22777777777777777),\n",
              " ('thirty', 0.23148148148148148),\n",
              " ('service', 0.18030303030303033),\n",
              " ('Navy', 0.08927738927738928),\n",
              " ('top', 0.22777777777777777),\n",
              " ('aviators', 0.08927738927738928),\n",
              " ('Pete', 0.0),\n",
              " ('Mitchell', 0.08927738927738928),\n",
              " ('belongs', 0.22777777777777777),\n",
              " ('pushing', 0.18030303030303033),\n",
              " ('envelope', 0.09814814814814814),\n",
              " ('courageous', 0.22777777777777777),\n",
              " ('test', 0.18030303030303033),\n",
              " ('pilot', 0.15),\n",
              " ('dodging', 0.18030303030303033),\n",
              " ('advancement', 0.109006734006734),\n",
              " ('rank', 0.22777777777777777),\n",
              " ('would', 0.0),\n",
              " ('ground', 0.24206349206349206),\n",
              " ('explorers', 0.109006734006734),\n",
              " ('travel', 0.22777777777777777),\n",
              " ('wormhole', 0.09601139601139601),\n",
              " ('space', 0.20555555555555557),\n",
              " ('attempt', 0.18030303030303033),\n",
              " ('ensure', 0.22777777777777777),\n",
              " ('humanity', 0.1263227513227513),\n",
              " ('survival', 0.11958874458874458),\n",
              " ('slums', 0.18030303030303033),\n",
              " ('Rio', 0.07425213675213675),\n",
              " ('kids', 0.109006734006734),\n",
              " (\"'\", 0.0),\n",
              " ('paths', 0.10648148148148147),\n",
              " ('diverge', 0.22777777777777777),\n",
              " ('struggles', 0.22777777777777777),\n",
              " ('become', 0.22777777777777777),\n",
              " ('photographer', 0.08927738927738928),\n",
              " ('kingpin', 0.08927738927738928),\n",
              " ('During', 0.0),\n",
              " ('move', 0.22777777777777777),\n",
              " ('suburbs', 0.08744588744588744),\n",
              " ('sullen', 0.22777777777777777),\n",
              " ('10-year-old', 0.0),\n",
              " ('girl', 0.09814814814814814),\n",
              " ('wanders', 0.18030303030303033),\n",
              " ('ruled', 0.22777777777777777),\n",
              " ('gods', 0.08927738927738928),\n",
              " ('witches', 0.15),\n",
              " ('spirits', 0.13095238095238096),\n",
              " ('humans', 0.08351139601139601),\n",
              " ('changed', 0.22777777777777777),\n",
              " ('beasts', 0.09601139601139601),\n",
              " ('Following', 0.22777777777777777),\n",
              " ('Normandy', 0.09601139601139601),\n",
              " ('Landings', 0.22777777777777777),\n",
              " ('group', 0.1638888888888889),\n",
              " ('U.S.', 0.0),\n",
              " ('soldiers', 0.18030303030303033),\n",
              " ('go', 0.45),\n",
              " ('behind', 0.22777777777777777),\n",
              " ('enemy', 0.12261904761904763),\n",
              " ('lines', 0.20555555555555557),\n",
              " ('retrieve', 0.22777777777777777),\n",
              " ('paratrooper', 0.07028388278388278),\n",
              " ('brothers', 0.09814814814814814),\n",
              " ('killed', 0.3111111111111111),\n",
              " ('guards', 0.18030303030303033),\n",
              " ('Death', 0.167989417989418),\n",
              " ('Row', 0.11958874458874458),\n",
              " ('affected', 0.22777777777777777),\n",
              " ('charges', 0.24206349206349206),\n",
              " ('black', 0.22777777777777777),\n",
              " ('accused', 0.22777777777777777),\n",
              " ('child', 0.109006734006734),\n",
              " ('rape', 0.18030303030303033),\n",
              " ('yet', 0.22777777777777777),\n",
              " ('mysterious', 0.22777777777777777),\n",
              " ('gift', 0.22777777777777777),\n",
              " ('open-minded', 0.22777777777777777),\n",
              " ('waiter', 0.109006734006734),\n",
              " ('victims', 0.109006734006734),\n",
              " ('Holocaust', 0.11314102564102564),\n",
              " ('uses', 0.22777777777777777),\n",
              " ('perfect', 0.22777777777777777),\n",
              " ('mixture', 0.1369047619047619),\n",
              " ('humor', 0.1726190476190476),\n",
              " ('imagination', 0.09814814814814814),\n",
              " ('protect', 0.15),\n",
              " ('dangers', 0.1365079365079365),\n",
              " ('around', 0.22777777777777777),\n",
              " ('camp', 0.22777777777777777),\n",
              " ('detectives', 0.08927738927738928),\n",
              " ('rookie', 0.08927738927738928),\n",
              " ('veteran', 0.22777777777777777),\n",
              " ('hunt', 0.18030303030303033),\n",
              " ('killer', 0.1365079365079365),\n",
              " ('seven', 0.23148148148148148),\n",
              " ('deadly', 0.22777777777777777),\n",
              " ('sins', 0.1898148148148148),\n",
              " ('motives', 0.1402116402116402),\n",
              " ('cyborg', 0.09814814814814814),\n",
              " ('identical', 0.22777777777777777),\n",
              " ('failed', 0.22777777777777777),\n",
              " ('kill', 0.3111111111111111),\n",
              " ('Sarah', 0.08189033189033189),\n",
              " ('Connor', 0.0),\n",
              " ('ten-year-old', 0.0),\n",
              " ('John', 0.09141414141414143),\n",
              " ('advanced', 0.22777777777777777),\n",
              " ('young', 0.22777777777777777),\n",
              " ('F.B.I', 0.0),\n",
              " ('cadet', 0.08189033189033189),\n",
              " ('receive', 0.22777777777777777),\n",
              " ('incarcerated', 0.18030303030303033),\n",
              " ('manipulative', 0.22777777777777777),\n",
              " ('cannibal', 0.08927738927738928),\n",
              " ('catch', 0.23611111111111108),\n",
              " ('another', 0.22777777777777777),\n",
              " ('madman', 0.08927738927738928),\n",
              " ('skins', 0.1638888888888889),\n",
              " ('Knight', 0.1130952380952381),\n",
              " ('cocky', 0.22777777777777777),\n",
              " ('Wookiee', 0.0),\n",
              " ('droids', 0.0),\n",
              " ('world-destroying', 0.0),\n",
              " ('battle', 0.18030303030303033),\n",
              " ('station', 0.18030303030303033),\n",
              " ('also', 0.22777777777777777),\n",
              " ('attempting', 0.18030303030303033),\n",
              " ('rescue', 0.18030303030303033),\n",
              " ('Princess', 0.08927738927738928),\n",
              " ('Leia', 0.0),\n",
              " ('ronin', 0.0),\n",
              " ('requesting', 0.1130952380952381),\n",
              " ('seppuku', 0.11008403361344538),\n",
              " ('feudal', 0.22777777777777777),\n",
              " ('lord', 0.11706349206349205),\n",
              " ('palace', 0.08927738927738928),\n",
              " ('told', 0.18030303030303033),\n",
              " ('brutal', 0.22777777777777777),\n",
              " ('suicide', 0.14814814814814814),\n",
              " ('previously', 0.22777777777777777),\n",
              " ('visited', 0.22777777777777777),\n",
              " ('reveals', 0.18030303030303033),\n",
              " ('pasts', 0.1263227513227513),\n",
              " ('intertwined', 0.15),\n",
              " ('-', 0.0),\n",
              " ('challenges', 0.11958874458874458),\n",
              " ('clan', 0.12261904761904763),\n",
              " ('integrity', 0.12261904761904763),\n",
              " ('samurai', 0.09814814814814814),\n",
              " ('gathers', 0.22777777777777777),\n",
              " ('six', 0.23148148148148148),\n",
              " ('samurais', 0.09814814814814814),\n",
              " ('village', 0.09814814814814814),\n",
              " ('cruel', 0.22777777777777777),\n",
              " ('As', 0.5277777777777778),\n",
              " ('teach', 0.15),\n",
              " ('natives', 0.109006734006734),\n",
              " ('defend', 0.22777777777777777),\n",
              " ('attacked', 0.22777777777777777),\n",
              " ('pack', 0.18703703703703703),\n",
              " ('40', 0.23148148148148148),\n",
              " ('angel', 0.10648148148148147),\n",
              " ('sent', 0.24206349206349206),\n",
              " ('Heaven', 0.10648148148148147),\n",
              " ('desperately', 0.22777777777777777),\n",
              " ('businessman', 0.08927738927738928),\n",
              " ('showing', 0.23148148148148148),\n",
              " ('like', 0.22777777777777777),\n",
              " ('never', 0.22777777777777777),\n",
              " ('existed', 0.45),\n",
              " ('Dilli', 0.0),\n",
              " ('ex-convict', 0.0),\n",
              " ('endeavours', 0.15),\n",
              " ('meet', 0.22777777777777777),\n",
              " ('daughter', 0.08927738927738928),\n",
              " ('first', 0.23611111111111108),\n",
              " ('time', 0.15925925925925924),\n",
              " ('leaving', 0.22777777777777777),\n",
              " ('prison', 0.109006734006734),\n",
              " ('However', 0.22777777777777777),\n",
              " ('attempts', 0.18030303030303033),\n",
              " ('interrupted', 0.22777777777777777),\n",
              " ('due', 0.22777777777777777),\n",
              " ('drug', 0.19166666666666665),\n",
              " ('raid', 0.15),\n",
              " ('planned', 0.22777777777777777),\n",
              " ('Inspector', 0.08927738927738928),\n",
              " ('Bejoy', 0.0),\n",
              " ('teenage', 0.22777777777777777),\n",
              " ('farmer', 0.09814814814814814),\n",
              " ('underprivileged', 0.22777777777777777),\n",
              " ('caste', 0.109006734006734),\n",
              " ('kills', 0.3111111111111111),\n",
              " ('rich', 0.22777777777777777),\n",
              " ('upper', 0.22777777777777777),\n",
              " ('landlord', 0.08189033189033189),\n",
              " ('Will', 0.18030303030303033),\n",
              " ('loving', 0.22777777777777777),\n",
              " ('father', 0.18030303030303033),\n",
              " ('pacifist', 0.22777777777777777),\n",
              " ('heart', 0.11203703703703705),\n",
              " ('able', 0.22777777777777777),\n",
              " ('hot-blooded', 0.22777777777777777),\n",
              " ('rest', 0.23611111111111108),\n",
              " ('Greed', 0.08927738927738928),\n",
              " ('class', 0.1365079365079365),\n",
              " ('discrimination', 0.09814814814814814),\n",
              " ('threaten', 0.18030303030303033),\n",
              " ('newly', 0.22777777777777777),\n",
              " ('formed', 0.22777777777777777),\n",
              " ('symbiotic', 0.22777777777777777),\n",
              " ('wealthy', 0.22777777777777777),\n",
              " ('Park', 0.15),\n",
              " ('destitute', 0.22777777777777777),\n",
              " ('Kim', 0.0),\n",
              " ('promising', 0.22777777777777777),\n",
              " ('drummer', 0.07564102564102564),\n",
              " ('enrolls', 0.10092592592592592),\n",
              " ('cut-throat', 0.0),\n",
              " ('music', 0.1263227513227513),\n",
              " ('conservatory', 0.08189033189033189),\n",
              " ('dreams', 0.18030303030303033),\n",
              " ('greatness', 0.08927738927738928),\n",
              " ('mentored', 0.10092592592592592),\n",
              " ('instructor', 0.08189033189033189),\n",
              " ('stop', 0.24206349206349206),\n",
              " ('nothing', 0.23611111111111108),\n",
              " ('realize', 0.22777777777777777),\n",
              " ('student', 0.09814814814814814),\n",
              " ('potential', 0.22777777777777777),\n",
              " ('quadriplegic', 0.09814814814814814),\n",
              " ('paragliding', 0.06851851851851852),\n",
              " ('accident', 0.109006734006734),\n",
              " ('aristocrat', 0.09814814814814814),\n",
              " ('hires', 0.22777777777777777),\n",
              " ('projects', 0.22777777777777777),\n",
              " ('caregiver', 0.09814814814814814),\n",
              " ('biopic', 0.0),\n",
              " ('detailing', 0.1288156288156288),\n",
              " ('2', 0.23148148148148148),\n",
              " ('decades', 0.11574074074074074),\n",
              " ('Punjabi', 0.08189033189033189),\n",
              " ('Sikh', 0.22777777777777777),\n",
              " ('revolutionary', 0.22777777777777777),\n",
              " ('Udham', 0.0),\n",
              " ('Singh', 0.0),\n",
              " ('spent', 0.22777777777777777),\n",
              " ('planning', 0.18030303030303033),\n",
              " ('assassination', 0.22777777777777777),\n",
              " ('responsible', 0.22777777777777777),\n",
              " ('Jallianwala', 0.0),\n",
              " ('Bagh', 0.0),\n",
              " ('massacre', 0.28030303030303033),\n",
              " ('stage', 0.15925925925925924),\n",
              " ('magicians', 0.09814814814814814),\n",
              " ('1890s', 0.1037037037037037),\n",
              " ('London', 0.08927738927738928),\n",
              " ('engage', 0.22777777777777777),\n",
              " ('create', 0.22777777777777777),\n",
              " ('ultimate', 0.22777777777777777),\n",
              " ('illusion', 0.08927738927738928),\n",
              " ('sacrificing', 0.22474747474747478),\n",
              " ('everything', 0.0),\n",
              " ('outwit', 0.13992673992673993),\n",
              " ('undercover', 0.22777777777777777),\n",
              " ('cop', 0.15),\n",
              " ('mole', 0.13703703703703704),\n",
              " ('police', 0.11706349206349205),\n",
              " ('identify', 0.22777777777777777),\n",
              " ('infiltrating', 0.18030303030303033),\n",
              " ('Irish', 0.22777777777777777),\n",
              " ('gang', 0.11958874458874458),\n",
              " ('South', 0.22777777777777777),\n",
              " ('Boston', 0.06905839258780436),\n",
              " ('Polish', 0.25),\n",
              " ('musician', 0.08927738927738928),\n",
              " ('survive', 0.45),\n",
              " ('destruction', 0.14761904761904762),\n",
              " ('Warsaw', 0.06905839258780436),\n",
              " ('ghetto', 0.09814814814814814),\n",
              " ('former', 0.22777777777777777),\n",
              " ('Roman', 0.24206349206349206),\n",
              " ('General', 0.22777777777777777),\n",
              " ('exact', 0.22777777777777777),\n",
              " ('vengeance', 0.08927738927738928),\n",
              " ('corrupt', 0.22777777777777777),\n",
              " ('emperor', 0.08927738927738928),\n",
              " ('murdered', 0.4777777777777778),\n",
              " ('slavery', 0.09814814814814814),\n",
              " ('neo-nazi', 0.0),\n",
              " ('skinhead', 0.07564102564102564),\n",
              " ('tries', 0.18030303030303033),\n",
              " ('prevent', 0.22777777777777777),\n",
              " ('younger', 0.22777777777777777),\n",
              " ('brother', 0.09814814814814814),\n",
              " ('wrong', 0.22777777777777777),\n",
              " ('sole', 0.22777777777777777),\n",
              " ('survivor', 0.109006734006734),\n",
              " ('tells', 0.18030303030303033),\n",
              " ('twisty', 0.22777777777777777),\n",
              " ('horrific', 0.22777777777777777),\n",
              " ('gun', 0.15),\n",
              " ('boat', 0.1288156288156288),\n",
              " ('began', 0.22777777777777777),\n",
              " ('five', 0.23148148148148148),\n",
              " ('criminals', 0.08189033189033189),\n",
              " ('met', 0.22777777777777777),\n",
              " ('seemingly', 0.22777777777777777),\n",
              " ('random', 0.22777777777777777),\n",
              " ('lineup', 0.09814814814814814),\n",
              " ('12-year-old', 0.0),\n",
              " ('Mathilda', 0.0),\n",
              " ('reluctantly', 0.22777777777777777),\n",
              " ('taken', 0.22777777777777777),\n",
              " ('Léon', 0.0),\n",
              " ('professional', 0.22777777777777777),\n",
              " ('assassin', 0.08927738927738928),\n",
              " ('unusual', 0.22777777777777777),\n",
              " ('forms', 0.18703703703703703),\n",
              " ('protégée', 0.0),\n",
              " ('learns', 0.22777777777777777),\n",
              " ('trade', 0.22777777777777777),\n",
              " ('Lion', 0.109006734006734),\n",
              " ('prince', 0.08927738927738928),\n",
              " ('Simba', 0.0),\n",
              " ('targeted', 0.1130952380952381),\n",
              " ('bitter', 0.22777777777777777),\n",
              " ('uncle', 0.08927738927738928),\n",
              " ('wants', 0.22777777777777777),\n",
              " ('ascend', 0.22777777777777777),\n",
              " ('throne', 0.15),\n",
              " ('filmmaker', 0.08927738927738928),\n",
              " ('recalls', 0.23611111111111108),\n",
              " ('falling', 0.22777777777777777),\n",
              " ('love', 0.23611111111111108),\n",
              " ('pictures', 0.1402116402116402),\n",
              " ('cinema', 0.08744588744588744),\n",
              " ('home', 0.22777777777777777),\n",
              " ('deep', 0.23148148148148148),\n",
              " ('friendship', 0.109006734006734),\n",
              " ('projectionist', 0.08927738927738928),\n",
              " ('boy', 0.09814814814814814),\n",
              " ('little', 0.23148148148148148),\n",
              " ('sister', 0.08189033189033189),\n",
              " ('struggle', 0.22777777777777777),\n",
              " ('Japan', 0.13095238095238096),\n",
              " ('Marty', 0.0),\n",
              " ('McFly', 0.0),\n",
              " ('17-year-old', 0.0),\n",
              " ('high', 0.22777777777777777),\n",
              " ('school', 0.15925925925925924),\n",
              " ('accidentally', 0.22777777777777777),\n",
              " ('time-traveling', 0.0),\n",
              " ('DeLorean', 0.0),\n",
              " ('invented', 0.15),\n",
              " ('close', 0.23148148148148148),\n",
              " ('friend', 0.109006734006734),\n",
              " ('eccentric', 0.22777777777777777),\n",
              " ('scientist', 0.109006734006734),\n",
              " ('Doc', 0.07564102564102564),\n",
              " ('Brown', 0.22777777777777777),\n",
              " ('Army', 0.09814814814814814),\n",
              " ('officer', 0.1288156288156288),\n",
              " ('serving', 0.18703703703703703),\n",
              " ('tasked', 0.15),\n",
              " ('assassinating', 0.22474747474747478),\n",
              " ('renegade', 0.22777777777777777),\n",
              " ('Special', 0.25),\n",
              " ('Forces', 0.18333333333333335),\n",
              " ('Colonel', 0.06563958916900092),\n",
              " ('sees', 0.22777777777777777),\n",
              " ('god', 0.08927738927738928),\n",
              " ('crew', 0.109006734006734),\n",
              " ('commercial', 0.22777777777777777),\n",
              " ('spacecraft', 0.0803030303030303),\n",
              " ('encounter', 0.22777777777777777),\n",
              " ('lifeform', 0.0),\n",
              " ('investigating', 0.18030303030303033),\n",
              " ('unknown', 0.24206349206349206),\n",
              " ('transmission', 0.1074074074074074),\n",
              " ('harmonica', 0.06905839258780436),\n",
              " ('notorious', 0.22777777777777777),\n",
              " ('desperado', 0.07564102564102564),\n",
              " ('widow', 0.18030303030303033),\n",
              " ('ruthless', 0.22777777777777777),\n",
              " ('working', 0.22777777777777777),\n",
              " ('railroad', 0.15),\n",
              " ('Phoenix', 0.09601139601139601),\n",
              " ('secretary', 0.08927738927738928),\n",
              " ('embezzles', 0.15),\n",
              " ('$', 0.0),\n",
              " ('40,000', 0.0),\n",
              " ('employer', 0.09814814814814814),\n",
              " ('client', 0.09814814814814814),\n",
              " ('goes', 0.45),\n",
              " ('run', 0.23611111111111108),\n",
              " ('checks', 0.25),\n",
              " ('motel', 0.07425213675213675),\n",
              " ('domination', 0.09814814814814814),\n",
              " ('mother', 0.18703703703703703),\n",
              " ('wheelchair-bound', 0.0),\n",
              " ('spies', 0.18030303030303033),\n",
              " ('neighbors', 0.15555555555555556),\n",
              " ('Greenwich', 0.0803030303030303),\n",
              " ('Village', 0.09814814814814814),\n",
              " ('courtyard', 0.08744588744588744),\n",
              " ('apartment', 0.08744588744588744),\n",
              " ('window', 0.11574074074074074),\n",
              " ('convinced', 0.22777777777777777),\n",
              " ('committed', 0.22777777777777777),\n",
              " ('despite', 0.09814814814814814),\n",
              " ('skepticism', 0.09814814814814814),\n",
              " ('fashion-model', 0.0),\n",
              " ('girlfriend', 0.09814814814814814),\n",
              " ('cynical', 0.22777777777777777),\n",
              " ('expatriate', 0.15),\n",
              " ('American', 0.22777777777777777),\n",
              " ('cafe', 0.0803030303030303),\n",
              " ('owner', 0.109006734006734),\n",
              " ('decide', 0.22777777777777777),\n",
              " ('whether', 0.0),\n",
              " ('lover', 0.109006734006734),\n",
              " ('fugitive', 0.22777777777777777),\n",
              " ('husband', 0.1288156288156288),\n",
              " ('escape', 0.18030303030303033),\n",
              " ('French', 0.22777777777777777),\n",
              " ('Morocco', 0.08372183372183373),\n",
              " ('Tramp', 0.18030303030303033),\n",
              " ('live', 0.45),\n",
              " ('modern', 0.24206349206349206),\n",
              " ('industrial', 0.22777777777777777),\n",
              " ('society', 0.12261904761904763),\n",
              " ('homeless', 0.22777777777777777),\n",
              " ('woman', 0.109006734006734),\n",
              " ('With', 0.0),\n",
              " ('aid', 0.18030303030303033),\n",
              " ('erratic', 0.22777777777777777),\n",
              " ('tippler', 0.08189033189033189),\n",
              " ('dewy-eyed', 0.22777777777777777),\n",
              " ('tramp', 0.18030303030303033),\n",
              " ('fallen', 0.22777777777777777),\n",
              " ('sightless', 0.22777777777777777),\n",
              " ('flower', 0.11574074074074074),\n",
              " ('accumulates', 0.1288156288156288),\n",
              " ('money', 0.1037037037037037),\n",
              " ('medically', 0.22777777777777777),\n",
              " ('five-year', 0.0),\n",
              " ('sentence', 0.1365079365079365),\n",
              " ('violent', 0.22777777777777777),\n",
              " ('sues', 0.08927738927738928),\n",
              " ('parents', 0.22777777777777777),\n",
              " ('neglect', 0.22777777777777777),\n",
              " ('mentally', 0.22777777777777777),\n",
              " ('troubled', 0.22777777777777777),\n",
              " ('stand-up', 0.22777777777777777),\n",
              " ('comedian', 0.08927738927738928),\n",
              " ('embarks', 0.18030303030303033),\n",
              " ('downward', 0.22777777777777777),\n",
              " ('spiral', 0.22777777777777777),\n",
              " ('creation', 0.11706349206349205),\n",
              " ('iconic', 0.22777777777777777),\n",
              " ('villain', 0.09814814814814814),\n",
              " ('sweethearts', 0.09814814814814814),\n",
              " ('reunion', 0.09230769230769231),\n",
              " ('22', 0.23148148148148148),\n",
              " ('reminisce', 0.18030303030303033),\n",
              " ('strangers', 0.109006734006734),\n",
              " ('linked', 0.22777777777777777),\n",
              " ('bizarre', 0.22777777777777777),\n",
              " ('connection', 0.1402116402116402),\n",
              " ('distance', 0.19166666666666665),\n",
              " ('thing', 0.18703703703703703),\n",
              " ('keep', 0.22777777777777777),\n",
              " ('apart', 0.22777777777777777),\n",
              " ('Teen', 0.22777777777777777),\n",
              " ('Miles', 0.16203703703703703),\n",
              " ('Morales', 0.09814814814814814),\n",
              " ('Spider-Man', 0.0),\n",
              " ('universe', 0.12261904761904763),\n",
              " ('join', 0.22777777777777777),\n",
              " ('spider-powered', 0.0),\n",
              " ('individuals', 0.12261904761904763),\n",
              " ('dimensions', 0.15925925925925924),\n",
              " ('threat', 0.11958874458874458),\n",
              " ('realities', 0.109006734006734),\n",
              " ('devastating', 0.22777777777777777),\n",
              " ('Avengers', 0.08189033189033189),\n",
              " ('Infinity', 0.12261904761904763),\n",
              " ('2018', 0.0),\n",
              " ('ruins', 0.22777777777777777),\n",
              " ('remaining', 0.22777777777777777),\n",
              " ('allies', 0.13095238095238096),\n",
              " ('assemble', 0.22777777777777777),\n",
              " ('order', 0.18333333333333335),\n",
              " ('reverse', 0.22777777777777777),\n",
              " ('Thanos', 0.0),\n",
              " ('actions', 0.1365079365079365),\n",
              " ('restore', 0.18030303030303033),\n",
              " ('balance', 0.19166666666666665),\n",
              " ('willing', 0.22777777777777777),\n",
              " ('sacrifice', 0.22474747474747478),\n",
              " ('defeat', 0.2833333333333333),\n",
              " ('blitz', 0.15),\n",
              " ('devastation', 0.13863636363636364),\n",
              " ('ruin', 0.22777777777777777),\n",
              " ('puts', 0.18030303030303033),\n",
              " ('Aspiring', 0.22777777777777777),\n",
              " ('Miguel', 0.0),\n",
              " ('confronted', 0.22777777777777777),\n",
              " ('ancestral', 0.22777777777777777),\n",
              " ('ban', 0.16984126984126982),\n",
              " ('enters', 0.22777777777777777),\n",
              " ('Land', 0.22777777777777777),\n",
              " ('Dead', 0.22777777777777777),\n",
              " ('great-great-grandfather', 0.0),\n",
              " ('legendary', 0.22777777777777777),\n",
              " ('singer', 0.08927738927738928),\n",
              " ('German', 0.22777777777777777),\n",
              " ('bounty-hunter', 0.0),\n",
              " ('freed', 0.22777777777777777),\n",
              " ('slave', 0.18030303030303033),\n",
              " ('plantation-owner', 0.0),\n",
              " ('Mississippi', 0.09601139601139601),\n",
              " ('Eight', 0.23148148148148148),\n",
              " ('reign', 0.23148148148148148),\n",
              " ('anarchy', 0.109006734006734),\n",
              " ('enigmatic', 0.22777777777777777),\n",
              " ('Catwoman', 0.0),\n",
              " ('forced', 0.22777777777777777),\n",
              " ('exile', 0.15),\n",
              " ('guerrilla', 0.09814814814814814),\n",
              " ('terrorist', 0.09814814814814814),\n",
              " ('Bane', 0.08927738927738928),\n",
              " ('gripping', 0.22777777777777777),\n",
              " ('tale', 0.1263227513227513),\n",
              " ('investigation', 0.08927738927738928),\n",
              " ('threatened', 0.22777777777777777),\n",
              " ('Georgekutty', 0.0),\n",
              " ('searching', 0.22777777777777777),\n",
              " ('long', 0.22777777777777777),\n",
              " ('lost', 0.22777777777777777),\n",
              " ('companion', 0.13095238095238096),\n",
              " ('They', 0.0),\n",
              " ('revisit', 0.15),\n",
              " ('college', 0.109006734006734),\n",
              " ('days', 0.13095238095238096),\n",
              " ('recall', 0.23611111111111108),\n",
              " ('memories', 0.09814814814814814),\n",
              " ('inspired', 0.22777777777777777),\n",
              " ('think', 0.22777777777777777),\n",
              " ('differently', 0.22777777777777777),\n",
              " ('even', 0.22777777777777777),\n",
              " ('called', 0.22777777777777777),\n",
              " ('idiots', 0.09814814814814814),\n",
              " ('blood-soaked', 0.0),\n",
              " ('Kolar', 0.0),\n",
              " ('Gold', 0.22777777777777777),\n",
              " ('Fields', 0.15925925925925924),\n",
              " ('Rocky', 0.22777777777777777),\n",
              " ('name', 0.23148148148148148),\n",
              " ('strikes', 0.22777777777777777),\n",
              " ('fear', 0.22777777777777777),\n",
              " ('foes', 0.09814814814814814),\n",
              " ('look', 0.22777777777777777),\n",
              " ('government', 0.09814814814814814),\n",
              " ('law', 0.12261904761904763),\n",
              " ('threats', 0.11958874458874458),\n",
              " ('sides', 0.12261904761904763),\n",
              " ('unchallenged', 0.22777777777777777),\n",
              " ('supremacy', 0.09814814814814814),\n",
              " ('PVC', 0.09111721611721613),\n",
              " ('awardee', 0.0),\n",
              " ('Indian', 0.22777777777777777),\n",
              " ('soldier', 0.18030303030303033),\n",
              " ('Capt', 0.0),\n",
              " ('Vikram', 0.0),\n",
              " ('Batra', 0.0),\n",
              " ('shot', 0.2638888888888889),\n",
              " ('fame', 0.08927738927738928),\n",
              " ('became', 0.22777777777777777),\n",
              " ('household', 0.09814814814814814),\n",
              " ('Kargil', 0.0),\n",
              " ('1999', 0.0),\n",
              " ('distant', 0.22777777777777777),\n",
              " ('future', 0.22777777777777777),\n",
              " ('small', 0.22777777777777777),\n",
              " ('waste-collecting', 0.0),\n",
              " ('robot', 0.0803030303030303),\n",
              " ('inadvertently', 0.22777777777777777),\n",
              " ('ultimately', 0.22777777777777777),\n",
              " ('fate', 0.1365079365079365),\n",
              " ('mankind', 0.08351139601139601),\n",
              " ('1984', 0.0),\n",
              " ('East', 0.22777777777777777),\n",
              " ('Berlin', 0.07028388278388278),\n",
              " ('agent', 0.15079365079365079),\n",
              " ('secret', 0.22777777777777777),\n",
              " ('conducting', 0.22777777777777777),\n",
              " ('surveillance', 0.07564102564102564),\n",
              " ('writer', 0.09814814814814814),\n",
              " ('becoming', 0.22777777777777777),\n",
              " ('increasingly', 0.22777777777777777),\n",
              " ('absorbed', 0.22777777777777777),\n",
              " ('kidnapped', 0.15),\n",
              " ('fifteen', 0.23148148148148148),\n",
              " ('Oh', 0.07425213675213675),\n",
              " ('Dae-Su', 0.0),\n",
              " ('released', 0.22777777777777777),\n",
              " ('captor', 0.109006734006734),\n",
              " ('short-term', 0.22777777777777777),\n",
              " ('memory', 0.09814814814814814),\n",
              " ('loss', 0.109006734006734),\n",
              " ('track', 0.18030303030303033),\n",
              " ('murderer', 0.09814814814814814),\n",
              " ('sexually', 0.22777777777777777),\n",
              " ('suburban', 0.22777777777777777),\n",
              " ('mid-life', 0.0),\n",
              " ('crisis', 0.09814814814814814),\n",
              " ('infatuated', 0.22777777777777777),\n",
              " ('best', 0.22777777777777777),\n",
              " ('On', 0.22777777777777777),\n",
              " ('cure', 0.18333333333333335),\n",
              " ('Tatarigami', 0.0),\n",
              " ('curse', 0.18030303030303033),\n",
              " ('Ashitaka', 0.0),\n",
              " ('middle', 0.23611111111111108),\n",
              " ('forest', 0.13347763347763347),\n",
              " ('Tatara', 0.0),\n",
              " ('mining', 0.15),\n",
              " ('colony', 0.12261904761904763),\n",
              " ('quest', 0.15),\n",
              " ('meets', 0.22777777777777777),\n",
              " ('San', 0.0),\n",
              " ('Mononoke', 0.0),\n",
              " ('Hime', 0.0),\n",
              " ('Scottish', 0.22777777777777777),\n",
              " ('warrior', 0.109006734006734),\n",
              " ('William', 0.0),\n",
              " ('Wallace', 0.08927738927738928),\n",
              " ('countrymen', 0.08927738927738928),\n",
              " ('rebellion', 0.09814814814814814),\n",
              " ('free', 0.22777777777777777),\n",
              " ('homeland', 0.0803030303030303),\n",
              " ('tyranny', 0.09814814814814814),\n",
              " ('King', 0.09393939393939395),\n",
              " ('Edward', 0.08189033189033189),\n",
              " ('I', 0.3055555555555555),\n",
              " ('England', 0.07425213675213675),\n",
              " ('old', 0.22777777777777777),\n",
              " ('rifle', 0.18030303030303033),\n",
              " ('Soviet', 0.22777777777777777),\n",
              " ('resistance', 0.11363636363636365),\n",
              " ('movement', 0.12857142857142856),\n",
              " ('experiences', 0.22777777777777777),\n",
              " ('horrors', 0.15555555555555556),\n",
              " ('Fifty-seven', 0.22777777777777777),\n",
              " ('surviving', 0.45),\n",
              " ('apocalyptic', 0.22777777777777777),\n",
              " ('attack', 0.22777777777777777),\n",
              " ('aboard', 0.22777777777777777),\n",
              " ('vessel', 0.08744588744588744),\n",
              " ('merciless', 0.22777777777777777),\n",
              " ('creatures', 0.109006734006734),\n",
              " ('Officer', 0.1288156288156288),\n",
              " ('Ripley', 0.0),\n",
              " ('awakens', 0.18030303030303033),\n",
              " ('hyper-sleep', 0.0),\n",
              " ('warn', 0.1130952380952381),\n",
              " ('anyone', 0.0),\n",
              " ('listen', 0.18030303030303033),\n",
              " ('predators', 0.08744588744588744),\n",
              " ...]"
            ]
          },
          "execution_count": 55,
          "metadata": {},
          "output_type": "execute_result"
        }
      ],
      "source": [
        "semantic_matching('Surviving a Murder')"
      ]
    },
    {
      "cell_type": "code",
      "execution_count": null,
      "metadata": {
        "id": "HORQsOA5lkZL"
      },
      "outputs": [],
      "source": []
    },
    {
      "cell_type": "markdown",
      "metadata": {
        "id": "BnKX3qagloyF"
      },
      "source": []
    }
  ],
  "metadata": {
    "colab": {
      "provenance": []
    },
    "kernelspec": {
      "display_name": "Python 3",
      "name": "python3"
    },
    "language_info": {
      "name": "python"
    }
  },
  "nbformat": 4,
  "nbformat_minor": 0
}
